{
  "nbformat": 4,
  "nbformat_minor": 0,
  "metadata": {
    "kernelspec": {
      "display_name": "Python 3",
      "language": "python",
      "name": "python3"
    },
    "language_info": {
      "codemirror_mode": {
        "name": "ipython",
        "version": 3
      },
      "file_extension": ".py",
      "mimetype": "text/x-python",
      "name": "python",
      "nbconvert_exporter": "python",
      "pygments_lexer": "ipython3",
      "version": "3.7.3"
    },
    "colab": {
      "name": "Group4-DS-Assignment_03.ipynb",
      "provenance": [],
      "include_colab_link": true
    }
  },
  "cells": [
    {
      "cell_type": "markdown",
      "metadata": {
        "id": "view-in-github",
        "colab_type": "text"
      },
      "source": [
        "<a href=\"https://colab.research.google.com/github/Ghislainniyongabo/group4-DS-Assignment_03/blob/master/Group4_DS_Assignment_03.ipynb\" target=\"_parent\"><img src=\"https://colab.research.google.com/assets/colab-badge.svg\" alt=\"Open In Colab\"/></a>"
      ]
    },
    {
      "cell_type": "markdown",
      "metadata": {
        "id": "4jXoyU8SvTi3",
        "colab_type": "text"
      },
      "source": [
        "## Group 4 Assignment \n",
        "\n",
        "Joseph Owuor Owino (josephowino@aims.ac.za)\n",
        "\n",
        "Linda Agyapomah Agyare (lindaagyapomah@aims.ac.za)\n",
        "\n",
        "Nedjla Tazdait (nedjla@aims.ac.za)\n",
        "\n",
        "Roger Jeasy Bavibidila (roger@aims.ac.za)\n",
        "\n",
        "Sitraka Nandrianina Tolojanahary (sitraka@aims.ac.za)\n",
        "\n",
        "Ghislain Niyongabo (ghislainniyongabo@aims.ac.za)"
      ]
    },
    {
      "cell_type": "markdown",
      "metadata": {
        "id": "_XPNOOMGvTi-",
        "colab_type": "text"
      },
      "source": [
        "### Mortgage Dataset:\n",
        "\n",
        "We worked on the Mortagage Approval Dataset. The goal of this problem is to predict whether a mortagage application will be accepted or denied according to some factors depending on both the lender and the applicant. Some of these factors are loan amount, loan type, loan purpose, occupancy, amongst others. In all there are 21 feature variables and two outputs (i.e whether an application was accepted or denied) and hence this is a binary classifiaction Problem.\n",
        "\n",
        "We obtained the dataset from Fedral Financial Instituitions Examination Council's(FFIEC). The Council is a formal interagency body empowered to prescribe uniform principles, standards, and report forms for the federal examination of financial institutions by the Board of Governors of the Federal Reserve System (FRB), the Federal Deposit Insurance Corporation (FDIC), the National Credit Union Administration (NCUA), the Office of the Comptroller of the Currency (OCC), and the Consumer Financial Protection Bureau (CFPB), and to make recommendations to promote uniformity in the supervision of financial institutions. \n",
        "\n",
        "\n"
      ]
    },
    {
      "cell_type": "markdown",
      "metadata": {
        "id": "-gT8GpHPvTjE",
        "colab_type": "text"
      },
      "source": [
        "## Understanding the problem - Data Perspective\n",
        "\n",
        "The data provided can be grouped into the following subjects\n",
        "\n",
        "$\\bullet$ Location describes the State, metro area and census tract of the property\n",
        "\n",
        "$\\bullet$ Property Type describes the Property Type and Occupancy of the property.Property type values include One-to-four family dwelling,Manufactured housing and Multifamily dwelling. This also answers the question “Will the owner use the property as their primary residence ?” . The values include Owner occupied as principal dwelling , Not owner occupied as principal dwelling and Not Applicable.\n",
        "\n",
        "$\\bullet$ Loan describes the action taken on the Loan, purpose of the Loan , Type of the loan ,Loan’s lien status.\n",
        "\n",
        "$\\bullet$ Lender describes the lender associated with the loan and the Federal agency associated with the loan.\n",
        "\n",
        "$\\bullet$ Applicant describes the demographic information for the applicants and the co-applicants.This has the applicant sex , co- applicant sex , applicant race and ethnicity, co- applicant race and ethnicity"
      ]
    },
    {
      "cell_type": "markdown",
      "metadata": {
        "id": "oiAcUaVsvTjH",
        "colab_type": "text"
      },
      "source": [
        "The data being used in the problem is used to determine if is to predict whether a mortagage application will be accepted or denied. \n",
        "\n",
        "The dataset has two different tables including \"Features\" table and \"Target or labels\" table. This lead us to conclude that we are dealing with a binary classification and therefore we made a decision to use Logistic regression. "
      ]
    },
    {
      "cell_type": "markdown",
      "metadata": {
        "id": "mPw4UFQgvTjN",
        "colab_type": "text"
      },
      "source": [
        "# Logistic Regreesion Model"
      ]
    },
    {
      "cell_type": "markdown",
      "metadata": {
        "id": "_4XBXE2avTjQ",
        "colab_type": "text"
      },
      "source": [
        "Logistic regression is a linear model but with a nonlinear response. The response is binary, $\\{ 0,1 \\}$, or positive and negative. The response is the prediction of the category. Our target variable is composed by two unique classes reason why we are dealing with binary classification and binary logistic regression was chosen for this problem .\n",
        "\n",
        "Properties of Logistic Regression:\n",
        "\n",
        "$\\bullet$ The dependent variable in logistic regression follows Bernoulli Distribution.\n",
        "\n",
        "$\\bullet$ Estimation is done through maximum likelihood.\n",
        "\n",
        "$\\bullet$ No R Square, Model fitness is calculated through Concordance, KS-Statistics.\n",
        "\n",
        "In this notebook report we will discuss the following: \n",
        "-  Data preparation and preprocessing using scikit-learn.\n",
        "-  The underpinning mathematics behind Logistic regression model (This was incorporated in this notebook and done at most of the important steps if the  model ).\n",
        "-  Construction of a Logistic regression model using scikit-learn.\n",
        "-  Evaluating the performance of the Logistic regression model. \n",
        "-  Using techniques such as reweighting the labels and changing the decision threshold to change the trade-off b      between false positive and false negative error rates. "
      ]
    },
    {
      "cell_type": "markdown",
      "metadata": {
        "id": "6Z_ddX55vTjS",
        "colab_type": "text"
      },
      "source": [
        "# Import libraries"
      ]
    },
    {
      "cell_type": "code",
      "metadata": {
        "id": "o3kMsdLavTjV",
        "colab_type": "code",
        "colab": {}
      },
      "source": [
        "#import pandas as pd\n",
        "#import matplotlib.pyplot as plt\n",
        "import seaborn as sns\n",
        "\n",
        "import numpy.random as nr\n",
        "import math\n",
        "from sklearn import preprocessing\n",
        "import sklearn.model_selection as ms\n",
        "from sklearn import linear_model\n",
        "import sklearn.metrics as sklm\n",
        "\n",
        "from keras.models import Sequential # # This indicate that whene adding addition layers, the sequence should go from the left to the right\n",
        "from keras.layers import Dense # This enable the full connected layers\n",
        "import numpy as np  # Import numpy libraries \n",
        "import matplotlib.pyplot as plt # For ploting the performance\n",
        "from keras.utils import np_utils  # This a keras library which enables the one hot encoding\n",
        "from sklearn.metrics import accuracy_score, confusion_matrix  # a sklearn functions that enables the computation of the accuracy and the plotting of the confusion matrix\n",
        "from sklearn.model_selection import train_test_split  # This a function that enables to split the dataset into separate data such as training, validation and test data\n",
        "from keras.utils import to_categorical # to_categorical is used to convert array of labeled data(from 0 to nb_classes-1) to one-hot vector\n",
        "from sklearn.preprocessing import StandardScaler # This a function used in scaling the data\n",
        "from sklearn.preprocessing import LabelEncoder #for encoding the levels of categorical features into numeric values\n",
        "import pandas as pd # Python library for data analysis\n",
        "from sklearn import preprocessing\n",
        "\n",
        "from keras.models import model_from_json\n",
        "\n",
        "%matplotlib inline\n",
        "\n",
        "%tensorflow_version 1.x"
      ],
      "execution_count": 0,
      "outputs": []
    },
    {
      "cell_type": "code",
      "metadata": {
        "id": "ar87DbX4vTjf",
        "colab_type": "code",
        "colab": {}
      },
      "source": [
        ""
      ],
      "execution_count": 0,
      "outputs": []
    },
    {
      "cell_type": "code",
      "metadata": {
        "id": "gd8EjMhhhTg2",
        "colab_type": "code",
        "colab": {}
      },
      "source": [
        "!pip install -U -q PyDrive\n",
        "from pydrive.auth import GoogleAuth\n",
        "from pydrive.drive import GoogleDrive\n",
        "from google.colab import auth\n",
        "from oauth2client.client import GoogleCredentials# Authenticate and create the PyDrive client.\n",
        "auth.authenticate_user()\n",
        "gauth = GoogleAuth()\n",
        "gauth.credentials = GoogleCredentials.get_application_default()\n",
        "drive = GoogleDrive(gauth)"
      ],
      "execution_count": 0,
      "outputs": []
    },
    {
      "cell_type": "code",
      "metadata": {
        "id": "QbDJK3AKiAeR",
        "colab_type": "code",
        "colab": {}
      },
      "source": [
        " link1='https://drive.google.com/open?id=1JrPu5ulLN_wr_CoS7XiJxcz9-OMiJ20L'"
      ],
      "execution_count": 0,
      "outputs": []
    },
    {
      "cell_type": "code",
      "metadata": {
        "id": "qBLVo41Uinsg",
        "colab_type": "code",
        "outputId": "1e061877-c6bd-4a3c-e088-38fc9c82324d",
        "colab": {
          "base_uri": "https://localhost:8080/",
          "height": 34
        }
      },
      "source": [
        "fluff, id1 = link1.split('=')\n",
        "print (id1) # Verify that you have everything after '='"
      ],
      "execution_count": 361,
      "outputs": [
        {
          "output_type": "stream",
          "text": [
            "1JrPu5ulLN_wr_CoS7XiJxcz9-OMiJ20L\n"
          ],
          "name": "stdout"
        }
      ]
    },
    {
      "cell_type": "code",
      "metadata": {
        "colab_type": "code",
        "id": "6p3D_smcjV2Q",
        "colab": {}
      },
      "source": [
        "link2='https://drive.google.com/open?id=1aqIWGFsf6PXXGxXxRLx_NyvSQg_AUzVs'"
      ],
      "execution_count": 0,
      "outputs": []
    },
    {
      "cell_type": "code",
      "metadata": {
        "colab_type": "code",
        "outputId": "98855ee9-ecb3-41cb-fdd1-d21ff7e77873",
        "id": "qSSu3iEKjXtD",
        "colab": {
          "base_uri": "https://localhost:8080/",
          "height": 34
        }
      },
      "source": [
        "fluff, id2 = link2.split('=')\n",
        "print (id2) # Verify that you have everything after '='"
      ],
      "execution_count": 363,
      "outputs": [
        {
          "output_type": "stream",
          "text": [
            "1aqIWGFsf6PXXGxXxRLx_NyvSQg_AUzVs\n"
          ],
          "name": "stdout"
        }
      ]
    },
    {
      "cell_type": "markdown",
      "metadata": {
        "id": "NnNPa2mZg8DS",
        "colab_type": "text"
      },
      "source": [
        "### We now  load and prepare the dataset."
      ]
    },
    {
      "cell_type": "code",
      "metadata": {
        "id": "1SKi90gHg8DU",
        "colab_type": "code",
        "colab": {}
      },
      "source": [
        "downloaded1 = drive.CreateFile({'id':id1}) \n",
        "downloaded1.GetContentFile('Filename.csv')  \n",
        "dataset1 = pd.read_csv('Filename.csv')\n",
        "\n",
        "downloaded2 = drive.CreateFile({'id':id2}) \n",
        "downloaded2.GetContentFile('Filename.csv')  \n",
        "dataset = pd.read_csv('Filename.csv')\n",
        "#dataset1=pd.read_csv(\"mortgage-loan-approval/train_labels.csv\") "
      ],
      "execution_count": 0,
      "outputs": []
    },
    {
      "cell_type": "code",
      "metadata": {
        "id": "u8hQ4H61vTj6",
        "colab_type": "code",
        "colab": {
          "base_uri": "https://localhost:8080/",
          "height": 34
        },
        "outputId": "04cb36b8-16c2-4f5a-c67c-0a21951a6f79"
      },
      "source": [
        "dataset1.shape"
      ],
      "execution_count": 365,
      "outputs": [
        {
          "output_type": "execute_result",
          "data": {
            "text/plain": [
              "(500000, 2)"
            ]
          },
          "metadata": {
            "tags": []
          },
          "execution_count": 365
        }
      ]
    },
    {
      "cell_type": "code",
      "metadata": {
        "id": "Gh8lPgd9vwCZ",
        "colab_type": "code",
        "colab": {
          "base_uri": "https://localhost:8080/",
          "height": 34
        },
        "outputId": "5efa316a-3d75-47d6-9475-41d161e95e75"
      },
      "source": [
        "dataset.shape"
      ],
      "execution_count": 366,
      "outputs": [
        {
          "output_type": "execute_result",
          "data": {
            "text/plain": [
              "(500000, 22)"
            ]
          },
          "metadata": {
            "tags": []
          },
          "execution_count": 366
        }
      ]
    },
    {
      "cell_type": "markdown",
      "metadata": {
        "id": "eQVMkcvrvTkB",
        "colab_type": "text"
      },
      "source": [
        "## View the feature table"
      ]
    },
    {
      "cell_type": "code",
      "metadata": {
        "id": "5k7UnC6cvTkF",
        "colab_type": "code",
        "colab": {
          "base_uri": "https://localhost:8080/",
          "height": 244
        },
        "outputId": "5cd07d80-3516-43c9-ae14-007223da64ba"
      },
      "source": [
        "dataset.head()"
      ],
      "execution_count": 239,
      "outputs": [
        {
          "output_type": "execute_result",
          "data": {
            "text/html": [
              "<div>\n",
              "<style scoped>\n",
              "    .dataframe tbody tr th:only-of-type {\n",
              "        vertical-align: middle;\n",
              "    }\n",
              "\n",
              "    .dataframe tbody tr th {\n",
              "        vertical-align: top;\n",
              "    }\n",
              "\n",
              "    .dataframe thead th {\n",
              "        text-align: right;\n",
              "    }\n",
              "</style>\n",
              "<table border=\"1\" class=\"dataframe\">\n",
              "  <thead>\n",
              "    <tr style=\"text-align: right;\">\n",
              "      <th></th>\n",
              "      <th>row_id</th>\n",
              "      <th>loan_type</th>\n",
              "      <th>property_type</th>\n",
              "      <th>loan_purpose</th>\n",
              "      <th>occupancy</th>\n",
              "      <th>loan_amount</th>\n",
              "      <th>preapproval</th>\n",
              "      <th>msa_md</th>\n",
              "      <th>state_code</th>\n",
              "      <th>county_code</th>\n",
              "      <th>applicant_ethnicity</th>\n",
              "      <th>applicant_race</th>\n",
              "      <th>applicant_sex</th>\n",
              "      <th>applicant_income</th>\n",
              "      <th>population</th>\n",
              "      <th>minority_population_pct</th>\n",
              "      <th>ffiecmedian_family_income</th>\n",
              "      <th>tract_to_msa_md_income_pct</th>\n",
              "      <th>number_of_owner-occupied_units</th>\n",
              "      <th>number_of_1_to_4_family_units</th>\n",
              "      <th>lender</th>\n",
              "      <th>co_applicant</th>\n",
              "    </tr>\n",
              "  </thead>\n",
              "  <tbody>\n",
              "    <tr>\n",
              "      <th>0</th>\n",
              "      <td>0</td>\n",
              "      <td>3</td>\n",
              "      <td>1</td>\n",
              "      <td>1</td>\n",
              "      <td>1</td>\n",
              "      <td>70.0</td>\n",
              "      <td>3</td>\n",
              "      <td>18</td>\n",
              "      <td>37</td>\n",
              "      <td>246</td>\n",
              "      <td>2</td>\n",
              "      <td>5</td>\n",
              "      <td>1</td>\n",
              "      <td>24.0</td>\n",
              "      <td>6203.0</td>\n",
              "      <td>44.230</td>\n",
              "      <td>60588.0</td>\n",
              "      <td>50.933</td>\n",
              "      <td>716.0</td>\n",
              "      <td>2642.0</td>\n",
              "      <td>4536</td>\n",
              "      <td>False</td>\n",
              "    </tr>\n",
              "    <tr>\n",
              "      <th>1</th>\n",
              "      <td>1</td>\n",
              "      <td>1</td>\n",
              "      <td>1</td>\n",
              "      <td>3</td>\n",
              "      <td>1</td>\n",
              "      <td>178.0</td>\n",
              "      <td>3</td>\n",
              "      <td>369</td>\n",
              "      <td>52</td>\n",
              "      <td>299</td>\n",
              "      <td>1</td>\n",
              "      <td>5</td>\n",
              "      <td>1</td>\n",
              "      <td>57.0</td>\n",
              "      <td>5774.0</td>\n",
              "      <td>15.905</td>\n",
              "      <td>54821.0</td>\n",
              "      <td>100.000</td>\n",
              "      <td>1622.0</td>\n",
              "      <td>2108.0</td>\n",
              "      <td>2458</td>\n",
              "      <td>False</td>\n",
              "    </tr>\n",
              "    <tr>\n",
              "      <th>2</th>\n",
              "      <td>2</td>\n",
              "      <td>2</td>\n",
              "      <td>1</td>\n",
              "      <td>3</td>\n",
              "      <td>1</td>\n",
              "      <td>163.0</td>\n",
              "      <td>3</td>\n",
              "      <td>16</td>\n",
              "      <td>10</td>\n",
              "      <td>306</td>\n",
              "      <td>2</td>\n",
              "      <td>5</td>\n",
              "      <td>1</td>\n",
              "      <td>67.0</td>\n",
              "      <td>6094.0</td>\n",
              "      <td>61.270</td>\n",
              "      <td>67719.0</td>\n",
              "      <td>100.000</td>\n",
              "      <td>760.0</td>\n",
              "      <td>1048.0</td>\n",
              "      <td>5710</td>\n",
              "      <td>False</td>\n",
              "    </tr>\n",
              "    <tr>\n",
              "      <th>3</th>\n",
              "      <td>3</td>\n",
              "      <td>1</td>\n",
              "      <td>1</td>\n",
              "      <td>1</td>\n",
              "      <td>1</td>\n",
              "      <td>155.0</td>\n",
              "      <td>1</td>\n",
              "      <td>305</td>\n",
              "      <td>47</td>\n",
              "      <td>180</td>\n",
              "      <td>2</td>\n",
              "      <td>5</td>\n",
              "      <td>1</td>\n",
              "      <td>105.0</td>\n",
              "      <td>6667.0</td>\n",
              "      <td>6.246</td>\n",
              "      <td>78439.0</td>\n",
              "      <td>100.000</td>\n",
              "      <td>2025.0</td>\n",
              "      <td>2299.0</td>\n",
              "      <td>5888</td>\n",
              "      <td>True</td>\n",
              "    </tr>\n",
              "    <tr>\n",
              "      <th>4</th>\n",
              "      <td>4</td>\n",
              "      <td>1</td>\n",
              "      <td>1</td>\n",
              "      <td>1</td>\n",
              "      <td>1</td>\n",
              "      <td>305.0</td>\n",
              "      <td>3</td>\n",
              "      <td>24</td>\n",
              "      <td>37</td>\n",
              "      <td>20</td>\n",
              "      <td>2</td>\n",
              "      <td>3</td>\n",
              "      <td>2</td>\n",
              "      <td>71.0</td>\n",
              "      <td>6732.0</td>\n",
              "      <td>100.000</td>\n",
              "      <td>63075.0</td>\n",
              "      <td>82.200</td>\n",
              "      <td>1464.0</td>\n",
              "      <td>1847.0</td>\n",
              "      <td>289</td>\n",
              "      <td>False</td>\n",
              "    </tr>\n",
              "  </tbody>\n",
              "</table>\n",
              "</div>"
            ],
            "text/plain": [
              "   row_id  loan_type  ...  lender  co_applicant\n",
              "0       0          3  ...    4536         False\n",
              "1       1          1  ...    2458         False\n",
              "2       2          2  ...    5710         False\n",
              "3       3          1  ...    5888          True\n",
              "4       4          1  ...     289         False\n",
              "\n",
              "[5 rows x 22 columns]"
            ]
          },
          "metadata": {
            "tags": []
          },
          "execution_count": 239
        }
      ]
    },
    {
      "cell_type": "markdown",
      "metadata": {
        "id": "kof6FvQXvTkN",
        "colab_type": "text"
      },
      "source": [
        "# Viewing the labels"
      ]
    },
    {
      "cell_type": "code",
      "metadata": {
        "id": "iMsBibHfvTkP",
        "colab_type": "code",
        "colab": {
          "base_uri": "https://localhost:8080/",
          "height": 206
        },
        "outputId": "9810764a-6d9a-492a-91eb-9dff45bdaa30"
      },
      "source": [
        "dataset1.head()"
      ],
      "execution_count": 240,
      "outputs": [
        {
          "output_type": "execute_result",
          "data": {
            "text/html": [
              "<div>\n",
              "<style scoped>\n",
              "    .dataframe tbody tr th:only-of-type {\n",
              "        vertical-align: middle;\n",
              "    }\n",
              "\n",
              "    .dataframe tbody tr th {\n",
              "        vertical-align: top;\n",
              "    }\n",
              "\n",
              "    .dataframe thead th {\n",
              "        text-align: right;\n",
              "    }\n",
              "</style>\n",
              "<table border=\"1\" class=\"dataframe\">\n",
              "  <thead>\n",
              "    <tr style=\"text-align: right;\">\n",
              "      <th></th>\n",
              "      <th>row_id</th>\n",
              "      <th>accepted</th>\n",
              "    </tr>\n",
              "  </thead>\n",
              "  <tbody>\n",
              "    <tr>\n",
              "      <th>0</th>\n",
              "      <td>0</td>\n",
              "      <td>1</td>\n",
              "    </tr>\n",
              "    <tr>\n",
              "      <th>1</th>\n",
              "      <td>1</td>\n",
              "      <td>0</td>\n",
              "    </tr>\n",
              "    <tr>\n",
              "      <th>2</th>\n",
              "      <td>2</td>\n",
              "      <td>1</td>\n",
              "    </tr>\n",
              "    <tr>\n",
              "      <th>3</th>\n",
              "      <td>3</td>\n",
              "      <td>1</td>\n",
              "    </tr>\n",
              "    <tr>\n",
              "      <th>4</th>\n",
              "      <td>4</td>\n",
              "      <td>1</td>\n",
              "    </tr>\n",
              "  </tbody>\n",
              "</table>\n",
              "</div>"
            ],
            "text/plain": [
              "   row_id  accepted\n",
              "0       0         1\n",
              "1       1         0\n",
              "2       2         1\n",
              "3       3         1\n",
              "4       4         1"
            ]
          },
          "metadata": {
            "tags": []
          },
          "execution_count": 240
        }
      ]
    },
    {
      "cell_type": "code",
      "metadata": {
        "id": "p66rvNvPvTkV",
        "colab_type": "code",
        "colab": {
          "base_uri": "https://localhost:8080/",
          "height": 156
        },
        "outputId": "428ba219-dabe-4aec-f199-d0505d3d0dc1"
      },
      "source": [
        "dataset.columns"
      ],
      "execution_count": 241,
      "outputs": [
        {
          "output_type": "execute_result",
          "data": {
            "text/plain": [
              "Index(['row_id', 'loan_type', 'property_type', 'loan_purpose', 'occupancy',\n",
              "       'loan_amount', 'preapproval', 'msa_md', 'state_code', 'county_code',\n",
              "       'applicant_ethnicity', 'applicant_race', 'applicant_sex',\n",
              "       'applicant_income', 'population', 'minority_population_pct',\n",
              "       'ffiecmedian_family_income', 'tract_to_msa_md_income_pct',\n",
              "       'number_of_owner-occupied_units', 'number_of_1_to_4_family_units',\n",
              "       'lender', 'co_applicant'],\n",
              "      dtype='object')"
            ]
          },
          "metadata": {
            "tags": []
          },
          "execution_count": 241
        }
      ]
    },
    {
      "cell_type": "code",
      "metadata": {
        "id": "reTUUTJovTkc",
        "colab_type": "code",
        "colab": {}
      },
      "source": [
        ""
      ],
      "execution_count": 0,
      "outputs": []
    },
    {
      "cell_type": "code",
      "metadata": {
        "id": "5YLmcqQlvTkh",
        "colab_type": "code",
        "colab": {
          "base_uri": "https://localhost:8080/",
          "height": 34
        },
        "outputId": "78af23b3-b040-4445-de53-b4dfa0a5238c"
      },
      "source": [
        "dataset['property_type'].unique()"
      ],
      "execution_count": 242,
      "outputs": [
        {
          "output_type": "execute_result",
          "data": {
            "text/plain": [
              "array([1, 2, 3])"
            ]
          },
          "metadata": {
            "tags": []
          },
          "execution_count": 242
        }
      ]
    },
    {
      "cell_type": "markdown",
      "metadata": {
        "id": "RoLUg0EnvTkp",
        "colab_type": "text"
      },
      "source": [
        "### checking the number of missing values"
      ]
    },
    {
      "cell_type": "code",
      "metadata": {
        "id": "KzzkvLfwvTkr",
        "colab_type": "code",
        "colab": {
          "base_uri": "https://localhost:8080/",
          "height": 69
        },
        "outputId": "aae72bef-ab8b-4619-a5af-da1da7e8c7db"
      },
      "source": [
        "dataset1.isnull().sum() "
      ],
      "execution_count": 243,
      "outputs": [
        {
          "output_type": "execute_result",
          "data": {
            "text/plain": [
              "row_id      0\n",
              "accepted    0\n",
              "dtype: int64"
            ]
          },
          "metadata": {
            "tags": []
          },
          "execution_count": 243
        }
      ]
    },
    {
      "cell_type": "code",
      "metadata": {
        "id": "Tw566yzMvTkz",
        "colab_type": "code",
        "colab": {}
      },
      "source": [
        "target=dataset1['accepted']"
      ],
      "execution_count": 0,
      "outputs": []
    },
    {
      "cell_type": "code",
      "metadata": {
        "id": "jMf45xsLvTk3",
        "colab_type": "code",
        "colab": {
          "base_uri": "https://localhost:8080/",
          "height": 121
        },
        "outputId": "f2963b04-3bb0-4981-f77b-c2d5b1aba895"
      },
      "source": [
        "target.head()"
      ],
      "execution_count": 245,
      "outputs": [
        {
          "output_type": "execute_result",
          "data": {
            "text/plain": [
              "0    1\n",
              "1    0\n",
              "2    1\n",
              "3    1\n",
              "4    1\n",
              "Name: accepted, dtype: int64"
            ]
          },
          "metadata": {
            "tags": []
          },
          "execution_count": 245
        }
      ]
    },
    {
      "cell_type": "markdown",
      "metadata": {
        "id": "RjJkAEzLvTk7",
        "colab_type": "text"
      },
      "source": [
        "## Merging the features and the target in one dataset "
      ]
    },
    {
      "cell_type": "code",
      "metadata": {
        "id": "QOA3TLdhvTk-",
        "colab_type": "code",
        "colab": {}
      },
      "source": [
        "dataset['accepted']=target"
      ],
      "execution_count": 0,
      "outputs": []
    },
    {
      "cell_type": "code",
      "metadata": {
        "id": "z8mEuV5lvTlC",
        "colab_type": "code",
        "colab": {
          "base_uri": "https://localhost:8080/",
          "height": 244
        },
        "outputId": "a6954e77-2e3d-42f7-f77a-5da71a5cace3"
      },
      "source": [
        "dataset.head()"
      ],
      "execution_count": 247,
      "outputs": [
        {
          "output_type": "execute_result",
          "data": {
            "text/html": [
              "<div>\n",
              "<style scoped>\n",
              "    .dataframe tbody tr th:only-of-type {\n",
              "        vertical-align: middle;\n",
              "    }\n",
              "\n",
              "    .dataframe tbody tr th {\n",
              "        vertical-align: top;\n",
              "    }\n",
              "\n",
              "    .dataframe thead th {\n",
              "        text-align: right;\n",
              "    }\n",
              "</style>\n",
              "<table border=\"1\" class=\"dataframe\">\n",
              "  <thead>\n",
              "    <tr style=\"text-align: right;\">\n",
              "      <th></th>\n",
              "      <th>row_id</th>\n",
              "      <th>loan_type</th>\n",
              "      <th>property_type</th>\n",
              "      <th>loan_purpose</th>\n",
              "      <th>occupancy</th>\n",
              "      <th>loan_amount</th>\n",
              "      <th>preapproval</th>\n",
              "      <th>msa_md</th>\n",
              "      <th>state_code</th>\n",
              "      <th>county_code</th>\n",
              "      <th>applicant_ethnicity</th>\n",
              "      <th>applicant_race</th>\n",
              "      <th>applicant_sex</th>\n",
              "      <th>applicant_income</th>\n",
              "      <th>population</th>\n",
              "      <th>minority_population_pct</th>\n",
              "      <th>ffiecmedian_family_income</th>\n",
              "      <th>tract_to_msa_md_income_pct</th>\n",
              "      <th>number_of_owner-occupied_units</th>\n",
              "      <th>number_of_1_to_4_family_units</th>\n",
              "      <th>lender</th>\n",
              "      <th>co_applicant</th>\n",
              "      <th>accepted</th>\n",
              "    </tr>\n",
              "  </thead>\n",
              "  <tbody>\n",
              "    <tr>\n",
              "      <th>0</th>\n",
              "      <td>0</td>\n",
              "      <td>3</td>\n",
              "      <td>1</td>\n",
              "      <td>1</td>\n",
              "      <td>1</td>\n",
              "      <td>70.0</td>\n",
              "      <td>3</td>\n",
              "      <td>18</td>\n",
              "      <td>37</td>\n",
              "      <td>246</td>\n",
              "      <td>2</td>\n",
              "      <td>5</td>\n",
              "      <td>1</td>\n",
              "      <td>24.0</td>\n",
              "      <td>6203.0</td>\n",
              "      <td>44.230</td>\n",
              "      <td>60588.0</td>\n",
              "      <td>50.933</td>\n",
              "      <td>716.0</td>\n",
              "      <td>2642.0</td>\n",
              "      <td>4536</td>\n",
              "      <td>False</td>\n",
              "      <td>1</td>\n",
              "    </tr>\n",
              "    <tr>\n",
              "      <th>1</th>\n",
              "      <td>1</td>\n",
              "      <td>1</td>\n",
              "      <td>1</td>\n",
              "      <td>3</td>\n",
              "      <td>1</td>\n",
              "      <td>178.0</td>\n",
              "      <td>3</td>\n",
              "      <td>369</td>\n",
              "      <td>52</td>\n",
              "      <td>299</td>\n",
              "      <td>1</td>\n",
              "      <td>5</td>\n",
              "      <td>1</td>\n",
              "      <td>57.0</td>\n",
              "      <td>5774.0</td>\n",
              "      <td>15.905</td>\n",
              "      <td>54821.0</td>\n",
              "      <td>100.000</td>\n",
              "      <td>1622.0</td>\n",
              "      <td>2108.0</td>\n",
              "      <td>2458</td>\n",
              "      <td>False</td>\n",
              "      <td>0</td>\n",
              "    </tr>\n",
              "    <tr>\n",
              "      <th>2</th>\n",
              "      <td>2</td>\n",
              "      <td>2</td>\n",
              "      <td>1</td>\n",
              "      <td>3</td>\n",
              "      <td>1</td>\n",
              "      <td>163.0</td>\n",
              "      <td>3</td>\n",
              "      <td>16</td>\n",
              "      <td>10</td>\n",
              "      <td>306</td>\n",
              "      <td>2</td>\n",
              "      <td>5</td>\n",
              "      <td>1</td>\n",
              "      <td>67.0</td>\n",
              "      <td>6094.0</td>\n",
              "      <td>61.270</td>\n",
              "      <td>67719.0</td>\n",
              "      <td>100.000</td>\n",
              "      <td>760.0</td>\n",
              "      <td>1048.0</td>\n",
              "      <td>5710</td>\n",
              "      <td>False</td>\n",
              "      <td>1</td>\n",
              "    </tr>\n",
              "    <tr>\n",
              "      <th>3</th>\n",
              "      <td>3</td>\n",
              "      <td>1</td>\n",
              "      <td>1</td>\n",
              "      <td>1</td>\n",
              "      <td>1</td>\n",
              "      <td>155.0</td>\n",
              "      <td>1</td>\n",
              "      <td>305</td>\n",
              "      <td>47</td>\n",
              "      <td>180</td>\n",
              "      <td>2</td>\n",
              "      <td>5</td>\n",
              "      <td>1</td>\n",
              "      <td>105.0</td>\n",
              "      <td>6667.0</td>\n",
              "      <td>6.246</td>\n",
              "      <td>78439.0</td>\n",
              "      <td>100.000</td>\n",
              "      <td>2025.0</td>\n",
              "      <td>2299.0</td>\n",
              "      <td>5888</td>\n",
              "      <td>True</td>\n",
              "      <td>1</td>\n",
              "    </tr>\n",
              "    <tr>\n",
              "      <th>4</th>\n",
              "      <td>4</td>\n",
              "      <td>1</td>\n",
              "      <td>1</td>\n",
              "      <td>1</td>\n",
              "      <td>1</td>\n",
              "      <td>305.0</td>\n",
              "      <td>3</td>\n",
              "      <td>24</td>\n",
              "      <td>37</td>\n",
              "      <td>20</td>\n",
              "      <td>2</td>\n",
              "      <td>3</td>\n",
              "      <td>2</td>\n",
              "      <td>71.0</td>\n",
              "      <td>6732.0</td>\n",
              "      <td>100.000</td>\n",
              "      <td>63075.0</td>\n",
              "      <td>82.200</td>\n",
              "      <td>1464.0</td>\n",
              "      <td>1847.0</td>\n",
              "      <td>289</td>\n",
              "      <td>False</td>\n",
              "      <td>1</td>\n",
              "    </tr>\n",
              "  </tbody>\n",
              "</table>\n",
              "</div>"
            ],
            "text/plain": [
              "   row_id  loan_type  property_type  ...  lender  co_applicant  accepted\n",
              "0       0          3              1  ...    4536         False         1\n",
              "1       1          1              1  ...    2458         False         0\n",
              "2       2          2              1  ...    5710         False         1\n",
              "3       3          1              1  ...    5888          True         1\n",
              "4       4          1              1  ...     289         False         1\n",
              "\n",
              "[5 rows x 23 columns]"
            ]
          },
          "metadata": {
            "tags": []
          },
          "execution_count": 247
        }
      ]
    },
    {
      "cell_type": "code",
      "metadata": {
        "id": "h4DYhfQHvTlQ",
        "colab_type": "code",
        "colab": {
          "base_uri": "https://localhost:8080/",
          "height": 34
        },
        "outputId": "a3020bbb-1849-4aa8-eb40-758e3997128a"
      },
      "source": [
        "dataset.shape"
      ],
      "execution_count": 248,
      "outputs": [
        {
          "output_type": "execute_result",
          "data": {
            "text/plain": [
              "(500000, 23)"
            ]
          },
          "metadata": {
            "tags": []
          },
          "execution_count": 248
        }
      ]
    },
    {
      "cell_type": "code",
      "metadata": {
        "id": "sl1gVRVXvTlV",
        "colab_type": "code",
        "colab": {
          "base_uri": "https://localhost:8080/",
          "height": 503
        },
        "outputId": "847e8480-f580-466b-b540-2acbcbf8156b"
      },
      "source": [
        "dataset.info()"
      ],
      "execution_count": 249,
      "outputs": [
        {
          "output_type": "stream",
          "text": [
            "<class 'pandas.core.frame.DataFrame'>\n",
            "RangeIndex: 500000 entries, 0 to 499999\n",
            "Data columns (total 23 columns):\n",
            "row_id                            500000 non-null int64\n",
            "loan_type                         500000 non-null int64\n",
            "property_type                     500000 non-null int64\n",
            "loan_purpose                      500000 non-null int64\n",
            "occupancy                         500000 non-null int64\n",
            "loan_amount                       500000 non-null float64\n",
            "preapproval                       500000 non-null int64\n",
            "msa_md                            500000 non-null int64\n",
            "state_code                        500000 non-null int64\n",
            "county_code                       500000 non-null int64\n",
            "applicant_ethnicity               500000 non-null int64\n",
            "applicant_race                    500000 non-null int64\n",
            "applicant_sex                     500000 non-null int64\n",
            "applicant_income                  460052 non-null float64\n",
            "population                        477535 non-null float64\n",
            "minority_population_pct           477534 non-null float64\n",
            "ffiecmedian_family_income         477560 non-null float64\n",
            "tract_to_msa_md_income_pct        477486 non-null float64\n",
            "number_of_owner-occupied_units    477435 non-null float64\n",
            "number_of_1_to_4_family_units     477470 non-null float64\n",
            "lender                            500000 non-null int64\n",
            "co_applicant                      500000 non-null bool\n",
            "accepted                          500000 non-null int64\n",
            "dtypes: bool(1), float64(8), int64(14)\n",
            "memory usage: 84.4 MB\n"
          ],
          "name": "stdout"
        }
      ]
    },
    {
      "cell_type": "markdown",
      "metadata": {
        "id": "6UAZpq3Ys_81",
        "colab_type": "text"
      },
      "source": [
        "##  Let's display basic statistical characteristics of each numerical feature. \n",
        "\n",
        "Remember that though the columns are initially columns, they were transformed in numerical. We do it by running the describe method and the code returns : the number of non-missing values, mean, standard deviation, range, median, 0.25 and 0.75 quartiles."
      ]
    },
    {
      "cell_type": "code",
      "metadata": {
        "id": "HnPC9oXMsvQE",
        "colab_type": "code",
        "colab": {
          "base_uri": "https://localhost:8080/",
          "height": 338
        },
        "outputId": "51ff3c1c-e096-4670-c815-4a6db5d9b27b"
      },
      "source": [
        "dataset.describe()\n"
      ],
      "execution_count": 338,
      "outputs": [
        {
          "output_type": "execute_result",
          "data": {
            "text/html": [
              "<div>\n",
              "<style scoped>\n",
              "    .dataframe tbody tr th:only-of-type {\n",
              "        vertical-align: middle;\n",
              "    }\n",
              "\n",
              "    .dataframe tbody tr th {\n",
              "        vertical-align: top;\n",
              "    }\n",
              "\n",
              "    .dataframe thead th {\n",
              "        text-align: right;\n",
              "    }\n",
              "</style>\n",
              "<table border=\"1\" class=\"dataframe\">\n",
              "  <thead>\n",
              "    <tr style=\"text-align: right;\">\n",
              "      <th></th>\n",
              "      <th>row_id</th>\n",
              "      <th>loan_type</th>\n",
              "      <th>property_type</th>\n",
              "      <th>loan_purpose</th>\n",
              "      <th>occupancy</th>\n",
              "      <th>loan_amount</th>\n",
              "      <th>preapproval</th>\n",
              "      <th>msa_md</th>\n",
              "      <th>state_code</th>\n",
              "      <th>county_code</th>\n",
              "      <th>applicant_ethnicity</th>\n",
              "      <th>applicant_race</th>\n",
              "      <th>applicant_sex</th>\n",
              "      <th>applicant_income</th>\n",
              "      <th>population</th>\n",
              "      <th>minority_population_pct</th>\n",
              "      <th>ffiecmedian_family_income</th>\n",
              "      <th>tract_to_msa_md_income_pct</th>\n",
              "      <th>number_of_owner-occupied_units</th>\n",
              "      <th>number_of_1_to_4_family_units</th>\n",
              "      <th>lender</th>\n",
              "      <th>accepted</th>\n",
              "    </tr>\n",
              "  </thead>\n",
              "  <tbody>\n",
              "    <tr>\n",
              "      <th>count</th>\n",
              "      <td>500000.000000</td>\n",
              "      <td>500000.000000</td>\n",
              "      <td>500000.000000</td>\n",
              "      <td>500000.000000</td>\n",
              "      <td>500000.000000</td>\n",
              "      <td>500000.000000</td>\n",
              "      <td>500000.000000</td>\n",
              "      <td>500000.000000</td>\n",
              "      <td>500000.000000</td>\n",
              "      <td>500000.000000</td>\n",
              "      <td>500000.000000</td>\n",
              "      <td>500000.000000</td>\n",
              "      <td>500000.000000</td>\n",
              "      <td>460052.000000</td>\n",
              "      <td>477535.000000</td>\n",
              "      <td>477534.000000</td>\n",
              "      <td>477560.000000</td>\n",
              "      <td>477486.000000</td>\n",
              "      <td>477435.000000</td>\n",
              "      <td>477470.000000</td>\n",
              "      <td>500000.000000</td>\n",
              "      <td>500000.000000</td>\n",
              "    </tr>\n",
              "    <tr>\n",
              "      <th>mean</th>\n",
              "      <td>249999.500000</td>\n",
              "      <td>1.366276</td>\n",
              "      <td>1.047650</td>\n",
              "      <td>2.066810</td>\n",
              "      <td>1.109590</td>\n",
              "      <td>221.753158</td>\n",
              "      <td>2.764722</td>\n",
              "      <td>181.606972</td>\n",
              "      <td>23.726924</td>\n",
              "      <td>144.542062</td>\n",
              "      <td>2.036228</td>\n",
              "      <td>4.786586</td>\n",
              "      <td>1.462374</td>\n",
              "      <td>102.389521</td>\n",
              "      <td>5416.833956</td>\n",
              "      <td>31.617310</td>\n",
              "      <td>69235.603298</td>\n",
              "      <td>91.832624</td>\n",
              "      <td>1427.718282</td>\n",
              "      <td>1886.147065</td>\n",
              "      <td>3720.121344</td>\n",
              "      <td>0.500228</td>\n",
              "    </tr>\n",
              "    <tr>\n",
              "      <th>std</th>\n",
              "      <td>144337.711634</td>\n",
              "      <td>0.690555</td>\n",
              "      <td>0.231404</td>\n",
              "      <td>0.948371</td>\n",
              "      <td>0.326092</td>\n",
              "      <td>590.641648</td>\n",
              "      <td>0.543061</td>\n",
              "      <td>138.464169</td>\n",
              "      <td>15.982768</td>\n",
              "      <td>100.243612</td>\n",
              "      <td>0.511351</td>\n",
              "      <td>1.024927</td>\n",
              "      <td>0.677685</td>\n",
              "      <td>153.534496</td>\n",
              "      <td>2728.144999</td>\n",
              "      <td>26.333938</td>\n",
              "      <td>14810.058791</td>\n",
              "      <td>14.210924</td>\n",
              "      <td>737.559511</td>\n",
              "      <td>914.123744</td>\n",
              "      <td>1838.313175</td>\n",
              "      <td>0.500000</td>\n",
              "    </tr>\n",
              "    <tr>\n",
              "      <th>min</th>\n",
              "      <td>0.000000</td>\n",
              "      <td>1.000000</td>\n",
              "      <td>1.000000</td>\n",
              "      <td>1.000000</td>\n",
              "      <td>1.000000</td>\n",
              "      <td>1.000000</td>\n",
              "      <td>1.000000</td>\n",
              "      <td>-1.000000</td>\n",
              "      <td>-1.000000</td>\n",
              "      <td>-1.000000</td>\n",
              "      <td>1.000000</td>\n",
              "      <td>1.000000</td>\n",
              "      <td>1.000000</td>\n",
              "      <td>1.000000</td>\n",
              "      <td>14.000000</td>\n",
              "      <td>0.534000</td>\n",
              "      <td>17858.000000</td>\n",
              "      <td>3.981000</td>\n",
              "      <td>4.000000</td>\n",
              "      <td>1.000000</td>\n",
              "      <td>0.000000</td>\n",
              "      <td>0.000000</td>\n",
              "    </tr>\n",
              "    <tr>\n",
              "      <th>25%</th>\n",
              "      <td>124999.750000</td>\n",
              "      <td>1.000000</td>\n",
              "      <td>1.000000</td>\n",
              "      <td>1.000000</td>\n",
              "      <td>1.000000</td>\n",
              "      <td>93.000000</td>\n",
              "      <td>3.000000</td>\n",
              "      <td>25.000000</td>\n",
              "      <td>6.000000</td>\n",
              "      <td>57.000000</td>\n",
              "      <td>2.000000</td>\n",
              "      <td>5.000000</td>\n",
              "      <td>1.000000</td>\n",
              "      <td>47.000000</td>\n",
              "      <td>3744.000000</td>\n",
              "      <td>10.700000</td>\n",
              "      <td>59731.000000</td>\n",
              "      <td>88.067250</td>\n",
              "      <td>944.000000</td>\n",
              "      <td>1301.000000</td>\n",
              "      <td>2442.000000</td>\n",
              "      <td>0.000000</td>\n",
              "    </tr>\n",
              "    <tr>\n",
              "      <th>50%</th>\n",
              "      <td>249999.500000</td>\n",
              "      <td>1.000000</td>\n",
              "      <td>1.000000</td>\n",
              "      <td>2.000000</td>\n",
              "      <td>1.000000</td>\n",
              "      <td>162.000000</td>\n",
              "      <td>3.000000</td>\n",
              "      <td>192.000000</td>\n",
              "      <td>26.000000</td>\n",
              "      <td>131.000000</td>\n",
              "      <td>2.000000</td>\n",
              "      <td>5.000000</td>\n",
              "      <td>1.000000</td>\n",
              "      <td>74.000000</td>\n",
              "      <td>4975.000000</td>\n",
              "      <td>22.901000</td>\n",
              "      <td>67526.000000</td>\n",
              "      <td>100.000000</td>\n",
              "      <td>1327.000000</td>\n",
              "      <td>1753.000000</td>\n",
              "      <td>3731.000000</td>\n",
              "      <td>1.000000</td>\n",
              "    </tr>\n",
              "    <tr>\n",
              "      <th>75%</th>\n",
              "      <td>374999.250000</td>\n",
              "      <td>2.000000</td>\n",
              "      <td>1.000000</td>\n",
              "      <td>3.000000</td>\n",
              "      <td>1.000000</td>\n",
              "      <td>266.000000</td>\n",
              "      <td>3.000000</td>\n",
              "      <td>314.000000</td>\n",
              "      <td>37.000000</td>\n",
              "      <td>246.000000</td>\n",
              "      <td>2.000000</td>\n",
              "      <td>5.000000</td>\n",
              "      <td>2.000000</td>\n",
              "      <td>117.000000</td>\n",
              "      <td>6467.000000</td>\n",
              "      <td>46.020000</td>\n",
              "      <td>75351.000000</td>\n",
              "      <td>100.000000</td>\n",
              "      <td>1780.000000</td>\n",
              "      <td>2309.000000</td>\n",
              "      <td>5436.000000</td>\n",
              "      <td>1.000000</td>\n",
              "    </tr>\n",
              "    <tr>\n",
              "      <th>max</th>\n",
              "      <td>499999.000000</td>\n",
              "      <td>4.000000</td>\n",
              "      <td>3.000000</td>\n",
              "      <td>3.000000</td>\n",
              "      <td>3.000000</td>\n",
              "      <td>100878.000000</td>\n",
              "      <td>3.000000</td>\n",
              "      <td>408.000000</td>\n",
              "      <td>52.000000</td>\n",
              "      <td>324.000000</td>\n",
              "      <td>4.000000</td>\n",
              "      <td>7.000000</td>\n",
              "      <td>4.000000</td>\n",
              "      <td>10139.000000</td>\n",
              "      <td>37097.000000</td>\n",
              "      <td>100.000000</td>\n",
              "      <td>125248.000000</td>\n",
              "      <td>100.000000</td>\n",
              "      <td>8771.000000</td>\n",
              "      <td>13623.000000</td>\n",
              "      <td>6508.000000</td>\n",
              "      <td>1.000000</td>\n",
              "    </tr>\n",
              "  </tbody>\n",
              "</table>\n",
              "</div>"
            ],
            "text/plain": [
              "              row_id      loan_type  ...         lender       accepted\n",
              "count  500000.000000  500000.000000  ...  500000.000000  500000.000000\n",
              "mean   249999.500000       1.366276  ...    3720.121344       0.500228\n",
              "std    144337.711634       0.690555  ...    1838.313175       0.500000\n",
              "min         0.000000       1.000000  ...       0.000000       0.000000\n",
              "25%    124999.750000       1.000000  ...    2442.000000       0.000000\n",
              "50%    249999.500000       1.000000  ...    3731.000000       1.000000\n",
              "75%    374999.250000       2.000000  ...    5436.000000       1.000000\n",
              "max    499999.000000       4.000000  ...    6508.000000       1.000000\n",
              "\n",
              "[8 rows x 22 columns]"
            ]
          },
          "metadata": {
            "tags": []
          },
          "execution_count": 338
        }
      ]
    },
    {
      "cell_type": "code",
      "metadata": {
        "id": "IheepkX_t0ao",
        "colab_type": "code",
        "colab": {
          "base_uri": "https://localhost:8080/",
          "height": 175
        },
        "outputId": "f519655d-7a90-4788-8388-22f5a1458c04"
      },
      "source": [
        "dataset.describe(include=['object', 'bool']) # this code is for the features that are still categorical"
      ],
      "execution_count": 340,
      "outputs": [
        {
          "output_type": "execute_result",
          "data": {
            "text/html": [
              "<div>\n",
              "<style scoped>\n",
              "    .dataframe tbody tr th:only-of-type {\n",
              "        vertical-align: middle;\n",
              "    }\n",
              "\n",
              "    .dataframe tbody tr th {\n",
              "        vertical-align: top;\n",
              "    }\n",
              "\n",
              "    .dataframe thead th {\n",
              "        text-align: right;\n",
              "    }\n",
              "</style>\n",
              "<table border=\"1\" class=\"dataframe\">\n",
              "  <thead>\n",
              "    <tr style=\"text-align: right;\">\n",
              "      <th></th>\n",
              "      <th>co_applicant</th>\n",
              "    </tr>\n",
              "  </thead>\n",
              "  <tbody>\n",
              "    <tr>\n",
              "      <th>count</th>\n",
              "      <td>500000</td>\n",
              "    </tr>\n",
              "    <tr>\n",
              "      <th>unique</th>\n",
              "      <td>2</td>\n",
              "    </tr>\n",
              "    <tr>\n",
              "      <th>top</th>\n",
              "      <td>False</td>\n",
              "    </tr>\n",
              "    <tr>\n",
              "      <th>freq</th>\n",
              "      <td>299974</td>\n",
              "    </tr>\n",
              "  </tbody>\n",
              "</table>\n",
              "</div>"
            ],
            "text/plain": [
              "       co_applicant\n",
              "count        500000\n",
              "unique            2\n",
              "top           False\n",
              "freq         299974"
            ]
          },
          "metadata": {
            "tags": []
          },
          "execution_count": 340
        }
      ]
    },
    {
      "cell_type": "markdown",
      "metadata": {
        "id": "zHdB8dbSvTlZ",
        "colab_type": "text"
      },
      "source": [
        "### Preprocessing the data:\n",
        "We cleaned the data by removing missing data values."
      ]
    },
    {
      "cell_type": "code",
      "metadata": {
        "id": "Vk9xz7wxvTlb",
        "colab_type": "code",
        "colab": {
          "base_uri": "https://localhost:8080/",
          "height": 434
        },
        "outputId": "73031f64-493c-4567-9af1-e9758ad54395"
      },
      "source": [
        "dataset.isnull().sum() # here we show the missing data"
      ],
      "execution_count": 341,
      "outputs": [
        {
          "output_type": "execute_result",
          "data": {
            "text/plain": [
              "row_id                                0\n",
              "loan_type                             0\n",
              "property_type                         0\n",
              "loan_purpose                          0\n",
              "occupancy                             0\n",
              "loan_amount                           0\n",
              "preapproval                           0\n",
              "msa_md                                0\n",
              "state_code                            0\n",
              "county_code                           0\n",
              "applicant_ethnicity                   0\n",
              "applicant_race                        0\n",
              "applicant_sex                         0\n",
              "applicant_income                  39948\n",
              "population                        22465\n",
              "minority_population_pct           22466\n",
              "ffiecmedian_family_income         22440\n",
              "tract_to_msa_md_income_pct        22514\n",
              "number_of_owner-occupied_units    22565\n",
              "number_of_1_to_4_family_units     22530\n",
              "lender                                0\n",
              "co_applicant                          0\n",
              "accepted                              0\n",
              "dtype: int64"
            ]
          },
          "metadata": {
            "tags": []
          },
          "execution_count": 341
        }
      ]
    },
    {
      "cell_type": "markdown",
      "metadata": {
        "id": "OD9ucpgAvTlg",
        "colab_type": "text"
      },
      "source": [
        "This dataset contains some missing values. However, the rate is not significant therefore we can perform the dropout in order to remove them from the dataset as they will not affect the performance adversely.\n",
        "\n",
        "# The code below removes all the missing data."
      ]
    },
    {
      "cell_type": "code",
      "metadata": {
        "id": "SlvJg12rvTlh",
        "colab_type": "code",
        "colab": {}
      },
      "source": [
        "dataset_cleaned=dataset.dropna()"
      ],
      "execution_count": 0,
      "outputs": []
    },
    {
      "cell_type": "code",
      "metadata": {
        "id": "AMepknG0vTll",
        "colab_type": "code",
        "colab": {
          "base_uri": "https://localhost:8080/",
          "height": 434
        },
        "outputId": "330a2181-d75c-49fe-a064-316700c39acb"
      },
      "source": [
        "dataset_cleaned.isnull().sum()"
      ],
      "execution_count": 343,
      "outputs": [
        {
          "output_type": "execute_result",
          "data": {
            "text/plain": [
              "row_id                            0\n",
              "loan_type                         0\n",
              "property_type                     0\n",
              "loan_purpose                      0\n",
              "occupancy                         0\n",
              "loan_amount                       0\n",
              "preapproval                       0\n",
              "msa_md                            0\n",
              "state_code                        0\n",
              "county_code                       0\n",
              "applicant_ethnicity               0\n",
              "applicant_race                    0\n",
              "applicant_sex                     0\n",
              "applicant_income                  0\n",
              "population                        0\n",
              "minority_population_pct           0\n",
              "ffiecmedian_family_income         0\n",
              "tract_to_msa_md_income_pct        0\n",
              "number_of_owner-occupied_units    0\n",
              "number_of_1_to_4_family_units     0\n",
              "lender                            0\n",
              "co_applicant                      0\n",
              "accepted                          0\n",
              "dtype: int64"
            ]
          },
          "metadata": {
            "tags": []
          },
          "execution_count": 343
        }
      ]
    },
    {
      "cell_type": "markdown",
      "metadata": {
        "id": "hV-_3AAhvTlq",
        "colab_type": "text"
      },
      "source": [
        "###  Viewing the new shape of the dataset after cleaning "
      ]
    },
    {
      "cell_type": "code",
      "metadata": {
        "id": "wOC1_aWhvTls",
        "colab_type": "code",
        "colab": {
          "base_uri": "https://localhost:8080/",
          "height": 34
        },
        "outputId": "e994618a-5970-426c-f62d-fa5f92721686"
      },
      "source": [
        "dataset_cleaned.shape"
      ],
      "execution_count": 344,
      "outputs": [
        {
          "output_type": "execute_result",
          "data": {
            "text/plain": [
              "(438255, 23)"
            ]
          },
          "metadata": {
            "tags": []
          },
          "execution_count": 344
        }
      ]
    },
    {
      "cell_type": "code",
      "metadata": {
        "id": "JOMzmJSlvTl0",
        "colab_type": "code",
        "colab": {
          "base_uri": "https://localhost:8080/",
          "height": 69
        },
        "outputId": "26c7384b-50f0-4988-ed0a-de2d5888008a"
      },
      "source": [
        "dataset.accepted.value_counts()"
      ],
      "execution_count": 345,
      "outputs": [
        {
          "output_type": "execute_result",
          "data": {
            "text/plain": [
              "1    250114\n",
              "0    249886\n",
              "Name: accepted, dtype: int64"
            ]
          },
          "metadata": {
            "tags": []
          },
          "execution_count": 345
        }
      ]
    },
    {
      "cell_type": "markdown",
      "metadata": {
        "id": "0CRXtWELvTl6",
        "colab_type": "text"
      },
      "source": [
        "#### Checking the Column Labels"
      ]
    },
    {
      "cell_type": "code",
      "metadata": {
        "id": "CbqWYUWLvTl8",
        "colab_type": "code",
        "colab": {
          "base_uri": "https://localhost:8080/",
          "height": 416
        },
        "outputId": "a2df97d6-3a55-4069-8291-614b8450fe28"
      },
      "source": [
        "for col in dataset_cleaned.columns: \n",
        "    print(col)     "
      ],
      "execution_count": 346,
      "outputs": [
        {
          "output_type": "stream",
          "text": [
            "row_id\n",
            "loan_type\n",
            "property_type\n",
            "loan_purpose\n",
            "occupancy\n",
            "loan_amount\n",
            "preapproval\n",
            "msa_md\n",
            "state_code\n",
            "county_code\n",
            "applicant_ethnicity\n",
            "applicant_race\n",
            "applicant_sex\n",
            "applicant_income\n",
            "population\n",
            "minority_population_pct\n",
            "ffiecmedian_family_income\n",
            "tract_to_msa_md_income_pct\n",
            "number_of_owner-occupied_units\n",
            "number_of_1_to_4_family_units\n",
            "lender\n",
            "co_applicant\n",
            "accepted\n"
          ],
          "name": "stdout"
        }
      ]
    },
    {
      "cell_type": "code",
      "metadata": {
        "id": "TR5XqA8QvTl_",
        "colab_type": "code",
        "colab": {}
      },
      "source": [
        ""
      ],
      "execution_count": 0,
      "outputs": []
    },
    {
      "cell_type": "code",
      "metadata": {
        "id": "dWQDzaX6vTmD",
        "colab_type": "code",
        "colab": {}
      },
      "source": [
        ""
      ],
      "execution_count": 0,
      "outputs": []
    },
    {
      "cell_type": "markdown",
      "metadata": {
        "id": "xt71aS1HvTmH",
        "colab_type": "text"
      },
      "source": [
        "### Transforming the categorical data to numerical data:\n",
        "\n",
        "Precisely setting the co-applicant values which is  boolean to zeros and ones. In this case True values are set to 1 and the false values are set to 0. The efficient way to transform the categorical data into numerical data is to use the **One hot encoding** but for this case the data was almost encoded expect for the column **\"co_applicant\".** Therefore we will use a simple way using the **loc function** in order to replace where the values is False by o and where the values is True by 1."
      ]
    },
    {
      "cell_type": "code",
      "metadata": {
        "id": "qGkZGHVpvTmJ",
        "colab_type": "code",
        "colab": {
          "base_uri": "https://localhost:8080/",
          "height": 121
        },
        "outputId": "b3c2622a-067d-4137-e413-6b155e9010c9"
      },
      "source": [
        "dataset_cleaned.loc[(dataset_cleaned.co_applicant == True),'co_applicant']=1\n",
        "dataset_cleaned.loc[(dataset_cleaned.co_applicant == False),'co_applicant']=0\n"
      ],
      "execution_count": 347,
      "outputs": [
        {
          "output_type": "stream",
          "text": [
            "/usr/local/lib/python3.6/dist-packages/pandas/core/indexing.py:494: SettingWithCopyWarning: \n",
            "A value is trying to be set on a copy of a slice from a DataFrame.\n",
            "Try using .loc[row_indexer,col_indexer] = value instead\n",
            "\n",
            "See the caveats in the documentation: http://pandas.pydata.org/pandas-docs/stable/user_guide/indexing.html#returning-a-view-versus-a-copy\n",
            "  self.obj[item] = s\n"
          ],
          "name": "stderr"
        }
      ]
    },
    {
      "cell_type": "code",
      "metadata": {
        "id": "-6EEn0d9vTmN",
        "colab_type": "code",
        "colab": {
          "base_uri": "https://localhost:8080/",
          "height": 244
        },
        "outputId": "d7896b03-52ef-4f7e-8125-729127d5d507"
      },
      "source": [
        "dataset_cleaned.head() # viewing the first five observaions "
      ],
      "execution_count": 348,
      "outputs": [
        {
          "output_type": "execute_result",
          "data": {
            "text/html": [
              "<div>\n",
              "<style scoped>\n",
              "    .dataframe tbody tr th:only-of-type {\n",
              "        vertical-align: middle;\n",
              "    }\n",
              "\n",
              "    .dataframe tbody tr th {\n",
              "        vertical-align: top;\n",
              "    }\n",
              "\n",
              "    .dataframe thead th {\n",
              "        text-align: right;\n",
              "    }\n",
              "</style>\n",
              "<table border=\"1\" class=\"dataframe\">\n",
              "  <thead>\n",
              "    <tr style=\"text-align: right;\">\n",
              "      <th></th>\n",
              "      <th>row_id</th>\n",
              "      <th>loan_type</th>\n",
              "      <th>property_type</th>\n",
              "      <th>loan_purpose</th>\n",
              "      <th>occupancy</th>\n",
              "      <th>loan_amount</th>\n",
              "      <th>preapproval</th>\n",
              "      <th>msa_md</th>\n",
              "      <th>state_code</th>\n",
              "      <th>county_code</th>\n",
              "      <th>applicant_ethnicity</th>\n",
              "      <th>applicant_race</th>\n",
              "      <th>applicant_sex</th>\n",
              "      <th>applicant_income</th>\n",
              "      <th>population</th>\n",
              "      <th>minority_population_pct</th>\n",
              "      <th>ffiecmedian_family_income</th>\n",
              "      <th>tract_to_msa_md_income_pct</th>\n",
              "      <th>number_of_owner-occupied_units</th>\n",
              "      <th>number_of_1_to_4_family_units</th>\n",
              "      <th>lender</th>\n",
              "      <th>co_applicant</th>\n",
              "      <th>accepted</th>\n",
              "    </tr>\n",
              "  </thead>\n",
              "  <tbody>\n",
              "    <tr>\n",
              "      <th>0</th>\n",
              "      <td>0</td>\n",
              "      <td>3</td>\n",
              "      <td>1</td>\n",
              "      <td>1</td>\n",
              "      <td>1</td>\n",
              "      <td>70.0</td>\n",
              "      <td>3</td>\n",
              "      <td>18</td>\n",
              "      <td>37</td>\n",
              "      <td>246</td>\n",
              "      <td>2</td>\n",
              "      <td>5</td>\n",
              "      <td>1</td>\n",
              "      <td>24.0</td>\n",
              "      <td>6203.0</td>\n",
              "      <td>44.230</td>\n",
              "      <td>60588.0</td>\n",
              "      <td>50.933</td>\n",
              "      <td>716.0</td>\n",
              "      <td>2642.0</td>\n",
              "      <td>4536</td>\n",
              "      <td>0</td>\n",
              "      <td>1</td>\n",
              "    </tr>\n",
              "    <tr>\n",
              "      <th>1</th>\n",
              "      <td>1</td>\n",
              "      <td>1</td>\n",
              "      <td>1</td>\n",
              "      <td>3</td>\n",
              "      <td>1</td>\n",
              "      <td>178.0</td>\n",
              "      <td>3</td>\n",
              "      <td>369</td>\n",
              "      <td>52</td>\n",
              "      <td>299</td>\n",
              "      <td>1</td>\n",
              "      <td>5</td>\n",
              "      <td>1</td>\n",
              "      <td>57.0</td>\n",
              "      <td>5774.0</td>\n",
              "      <td>15.905</td>\n",
              "      <td>54821.0</td>\n",
              "      <td>100.000</td>\n",
              "      <td>1622.0</td>\n",
              "      <td>2108.0</td>\n",
              "      <td>2458</td>\n",
              "      <td>0</td>\n",
              "      <td>0</td>\n",
              "    </tr>\n",
              "    <tr>\n",
              "      <th>2</th>\n",
              "      <td>2</td>\n",
              "      <td>2</td>\n",
              "      <td>1</td>\n",
              "      <td>3</td>\n",
              "      <td>1</td>\n",
              "      <td>163.0</td>\n",
              "      <td>3</td>\n",
              "      <td>16</td>\n",
              "      <td>10</td>\n",
              "      <td>306</td>\n",
              "      <td>2</td>\n",
              "      <td>5</td>\n",
              "      <td>1</td>\n",
              "      <td>67.0</td>\n",
              "      <td>6094.0</td>\n",
              "      <td>61.270</td>\n",
              "      <td>67719.0</td>\n",
              "      <td>100.000</td>\n",
              "      <td>760.0</td>\n",
              "      <td>1048.0</td>\n",
              "      <td>5710</td>\n",
              "      <td>0</td>\n",
              "      <td>1</td>\n",
              "    </tr>\n",
              "    <tr>\n",
              "      <th>3</th>\n",
              "      <td>3</td>\n",
              "      <td>1</td>\n",
              "      <td>1</td>\n",
              "      <td>1</td>\n",
              "      <td>1</td>\n",
              "      <td>155.0</td>\n",
              "      <td>1</td>\n",
              "      <td>305</td>\n",
              "      <td>47</td>\n",
              "      <td>180</td>\n",
              "      <td>2</td>\n",
              "      <td>5</td>\n",
              "      <td>1</td>\n",
              "      <td>105.0</td>\n",
              "      <td>6667.0</td>\n",
              "      <td>6.246</td>\n",
              "      <td>78439.0</td>\n",
              "      <td>100.000</td>\n",
              "      <td>2025.0</td>\n",
              "      <td>2299.0</td>\n",
              "      <td>5888</td>\n",
              "      <td>1</td>\n",
              "      <td>1</td>\n",
              "    </tr>\n",
              "    <tr>\n",
              "      <th>4</th>\n",
              "      <td>4</td>\n",
              "      <td>1</td>\n",
              "      <td>1</td>\n",
              "      <td>1</td>\n",
              "      <td>1</td>\n",
              "      <td>305.0</td>\n",
              "      <td>3</td>\n",
              "      <td>24</td>\n",
              "      <td>37</td>\n",
              "      <td>20</td>\n",
              "      <td>2</td>\n",
              "      <td>3</td>\n",
              "      <td>2</td>\n",
              "      <td>71.0</td>\n",
              "      <td>6732.0</td>\n",
              "      <td>100.000</td>\n",
              "      <td>63075.0</td>\n",
              "      <td>82.200</td>\n",
              "      <td>1464.0</td>\n",
              "      <td>1847.0</td>\n",
              "      <td>289</td>\n",
              "      <td>0</td>\n",
              "      <td>1</td>\n",
              "    </tr>\n",
              "  </tbody>\n",
              "</table>\n",
              "</div>"
            ],
            "text/plain": [
              "   row_id  loan_type  property_type  ...  lender  co_applicant  accepted\n",
              "0       0          3              1  ...    4536             0         1\n",
              "1       1          1              1  ...    2458             0         0\n",
              "2       2          2              1  ...    5710             0         1\n",
              "3       3          1              1  ...    5888             1         1\n",
              "4       4          1              1  ...     289             0         1\n",
              "\n",
              "[5 rows x 23 columns]"
            ]
          },
          "metadata": {
            "tags": []
          },
          "execution_count": 348
        }
      ]
    },
    {
      "cell_type": "code",
      "metadata": {
        "id": "Qwad8JPDvTmS",
        "colab_type": "code",
        "colab": {
          "base_uri": "https://localhost:8080/",
          "height": 34
        },
        "outputId": "8c099985-f420-4466-cd4e-d50b56330993"
      },
      "source": [
        "dataset_cleaned['loan_purpose'].unique()"
      ],
      "execution_count": 349,
      "outputs": [
        {
          "output_type": "execute_result",
          "data": {
            "text/plain": [
              "array([1, 3, 2])"
            ]
          },
          "metadata": {
            "tags": []
          },
          "execution_count": 349
        }
      ]
    },
    {
      "cell_type": "code",
      "metadata": {
        "id": "KhyVVwlkvTmV",
        "colab_type": "code",
        "colab": {
          "base_uri": "https://localhost:8080/",
          "height": 34
        },
        "outputId": "7ddf5148-64c1-4b61-f972-0fa15167ef80"
      },
      "source": [
        "dataset_cleaned['property_type'].unique()"
      ],
      "execution_count": 350,
      "outputs": [
        {
          "output_type": "execute_result",
          "data": {
            "text/plain": [
              "array([1, 2])"
            ]
          },
          "metadata": {
            "tags": []
          },
          "execution_count": 350
        }
      ]
    },
    {
      "cell_type": "code",
      "metadata": {
        "id": "j2J4T_mcvTma",
        "colab_type": "code",
        "colab": {}
      },
      "source": [
        ""
      ],
      "execution_count": 0,
      "outputs": []
    },
    {
      "cell_type": "markdown",
      "metadata": {
        "id": "TQMomahVvTmc",
        "colab_type": "text"
      },
      "source": [
        "### Droping Redundant Columns:\n",
        "We removed the columns that are not needed. Such are the applicant identifier column (row id) and applicant ethnicity. We observed that these features don't have any effect on an applicant being accepted or not."
      ]
    },
    {
      "cell_type": "code",
      "metadata": {
        "id": "Ut8nD6pIvTmd",
        "colab_type": "code",
        "colab": {}
      },
      "source": [
        "dataset_cleaned=dataset_cleaned.drop(columns =['row_id']) "
      ],
      "execution_count": 0,
      "outputs": []
    },
    {
      "cell_type": "code",
      "metadata": {
        "id": "mnzV5op7vTmg",
        "colab_type": "code",
        "colab": {}
      },
      "source": [
        "dataset_cleaned=dataset_cleaned.drop(columns =['applicant_ethnicity']) "
      ],
      "execution_count": 0,
      "outputs": []
    },
    {
      "cell_type": "code",
      "metadata": {
        "id": "yyn0NSc7vTmh",
        "colab_type": "code",
        "colab": {
          "base_uri": "https://localhost:8080/",
          "height": 244
        },
        "outputId": "aca4f160-f6dd-417a-e13a-2459bf5cef2b"
      },
      "source": [
        "dataset_cleaned.head()"
      ],
      "execution_count": 353,
      "outputs": [
        {
          "output_type": "execute_result",
          "data": {
            "text/html": [
              "<div>\n",
              "<style scoped>\n",
              "    .dataframe tbody tr th:only-of-type {\n",
              "        vertical-align: middle;\n",
              "    }\n",
              "\n",
              "    .dataframe tbody tr th {\n",
              "        vertical-align: top;\n",
              "    }\n",
              "\n",
              "    .dataframe thead th {\n",
              "        text-align: right;\n",
              "    }\n",
              "</style>\n",
              "<table border=\"1\" class=\"dataframe\">\n",
              "  <thead>\n",
              "    <tr style=\"text-align: right;\">\n",
              "      <th></th>\n",
              "      <th>loan_type</th>\n",
              "      <th>property_type</th>\n",
              "      <th>loan_purpose</th>\n",
              "      <th>occupancy</th>\n",
              "      <th>loan_amount</th>\n",
              "      <th>preapproval</th>\n",
              "      <th>msa_md</th>\n",
              "      <th>state_code</th>\n",
              "      <th>county_code</th>\n",
              "      <th>applicant_race</th>\n",
              "      <th>applicant_sex</th>\n",
              "      <th>applicant_income</th>\n",
              "      <th>population</th>\n",
              "      <th>minority_population_pct</th>\n",
              "      <th>ffiecmedian_family_income</th>\n",
              "      <th>tract_to_msa_md_income_pct</th>\n",
              "      <th>number_of_owner-occupied_units</th>\n",
              "      <th>number_of_1_to_4_family_units</th>\n",
              "      <th>lender</th>\n",
              "      <th>co_applicant</th>\n",
              "      <th>accepted</th>\n",
              "    </tr>\n",
              "  </thead>\n",
              "  <tbody>\n",
              "    <tr>\n",
              "      <th>0</th>\n",
              "      <td>3</td>\n",
              "      <td>1</td>\n",
              "      <td>1</td>\n",
              "      <td>1</td>\n",
              "      <td>70.0</td>\n",
              "      <td>3</td>\n",
              "      <td>18</td>\n",
              "      <td>37</td>\n",
              "      <td>246</td>\n",
              "      <td>5</td>\n",
              "      <td>1</td>\n",
              "      <td>24.0</td>\n",
              "      <td>6203.0</td>\n",
              "      <td>44.230</td>\n",
              "      <td>60588.0</td>\n",
              "      <td>50.933</td>\n",
              "      <td>716.0</td>\n",
              "      <td>2642.0</td>\n",
              "      <td>4536</td>\n",
              "      <td>0</td>\n",
              "      <td>1</td>\n",
              "    </tr>\n",
              "    <tr>\n",
              "      <th>1</th>\n",
              "      <td>1</td>\n",
              "      <td>1</td>\n",
              "      <td>3</td>\n",
              "      <td>1</td>\n",
              "      <td>178.0</td>\n",
              "      <td>3</td>\n",
              "      <td>369</td>\n",
              "      <td>52</td>\n",
              "      <td>299</td>\n",
              "      <td>5</td>\n",
              "      <td>1</td>\n",
              "      <td>57.0</td>\n",
              "      <td>5774.0</td>\n",
              "      <td>15.905</td>\n",
              "      <td>54821.0</td>\n",
              "      <td>100.000</td>\n",
              "      <td>1622.0</td>\n",
              "      <td>2108.0</td>\n",
              "      <td>2458</td>\n",
              "      <td>0</td>\n",
              "      <td>0</td>\n",
              "    </tr>\n",
              "    <tr>\n",
              "      <th>2</th>\n",
              "      <td>2</td>\n",
              "      <td>1</td>\n",
              "      <td>3</td>\n",
              "      <td>1</td>\n",
              "      <td>163.0</td>\n",
              "      <td>3</td>\n",
              "      <td>16</td>\n",
              "      <td>10</td>\n",
              "      <td>306</td>\n",
              "      <td>5</td>\n",
              "      <td>1</td>\n",
              "      <td>67.0</td>\n",
              "      <td>6094.0</td>\n",
              "      <td>61.270</td>\n",
              "      <td>67719.0</td>\n",
              "      <td>100.000</td>\n",
              "      <td>760.0</td>\n",
              "      <td>1048.0</td>\n",
              "      <td>5710</td>\n",
              "      <td>0</td>\n",
              "      <td>1</td>\n",
              "    </tr>\n",
              "    <tr>\n",
              "      <th>3</th>\n",
              "      <td>1</td>\n",
              "      <td>1</td>\n",
              "      <td>1</td>\n",
              "      <td>1</td>\n",
              "      <td>155.0</td>\n",
              "      <td>1</td>\n",
              "      <td>305</td>\n",
              "      <td>47</td>\n",
              "      <td>180</td>\n",
              "      <td>5</td>\n",
              "      <td>1</td>\n",
              "      <td>105.0</td>\n",
              "      <td>6667.0</td>\n",
              "      <td>6.246</td>\n",
              "      <td>78439.0</td>\n",
              "      <td>100.000</td>\n",
              "      <td>2025.0</td>\n",
              "      <td>2299.0</td>\n",
              "      <td>5888</td>\n",
              "      <td>1</td>\n",
              "      <td>1</td>\n",
              "    </tr>\n",
              "    <tr>\n",
              "      <th>4</th>\n",
              "      <td>1</td>\n",
              "      <td>1</td>\n",
              "      <td>1</td>\n",
              "      <td>1</td>\n",
              "      <td>305.0</td>\n",
              "      <td>3</td>\n",
              "      <td>24</td>\n",
              "      <td>37</td>\n",
              "      <td>20</td>\n",
              "      <td>3</td>\n",
              "      <td>2</td>\n",
              "      <td>71.0</td>\n",
              "      <td>6732.0</td>\n",
              "      <td>100.000</td>\n",
              "      <td>63075.0</td>\n",
              "      <td>82.200</td>\n",
              "      <td>1464.0</td>\n",
              "      <td>1847.0</td>\n",
              "      <td>289</td>\n",
              "      <td>0</td>\n",
              "      <td>1</td>\n",
              "    </tr>\n",
              "  </tbody>\n",
              "</table>\n",
              "</div>"
            ],
            "text/plain": [
              "   loan_type  property_type  loan_purpose  ...  lender  co_applicant  accepted\n",
              "0          3              1             1  ...    4536             0         1\n",
              "1          1              1             3  ...    2458             0         0\n",
              "2          2              1             3  ...    5710             0         1\n",
              "3          1              1             1  ...    5888             1         1\n",
              "4          1              1             1  ...     289             0         1\n",
              "\n",
              "[5 rows x 21 columns]"
            ]
          },
          "metadata": {
            "tags": []
          },
          "execution_count": 353
        }
      ]
    },
    {
      "cell_type": "code",
      "metadata": {
        "id": "9sGhWxW7vTml",
        "colab_type": "code",
        "colab": {}
      },
      "source": [
        "target_count = dataset_cleaned.accepted.value_counts()"
      ],
      "execution_count": 0,
      "outputs": []
    },
    {
      "cell_type": "code",
      "metadata": {
        "id": "Oqji8DCnuUt7",
        "colab_type": "code",
        "colab": {}
      },
      "source": [
        "#dataset_cleaned['accepted'].value_counts(normalize=True)"
      ],
      "execution_count": 0,
      "outputs": []
    },
    {
      "cell_type": "code",
      "metadata": {
        "id": "dXVILtO_vTmo",
        "colab_type": "code",
        "colab": {
          "base_uri": "https://localhost:8080/",
          "height": 34
        },
        "outputId": "4c208475-9f5d-4069-f590-872f2603c6ee"
      },
      "source": [
        "dataset_cleaned['applicant_sex'].unique()"
      ],
      "execution_count": 355,
      "outputs": [
        {
          "output_type": "execute_result",
          "data": {
            "text/plain": [
              "array([1, 2, 3, 4])"
            ]
          },
          "metadata": {
            "tags": []
          },
          "execution_count": 355
        }
      ]
    },
    {
      "cell_type": "markdown",
      "metadata": {
        "id": "0j4jICCzvTms",
        "colab_type": "text"
      },
      "source": [
        "### Let us explore our target variable and visualize it for checking Whether the Classes are  Balanced or Imbalanced:\n"
      ]
    },
    {
      "cell_type": "code",
      "metadata": {
        "id": "RR8hp4ypvTmu",
        "colab_type": "code",
        "colab": {
          "base_uri": "https://localhost:8080/",
          "height": 365
        },
        "outputId": "48a3d98a-94dd-48c8-ea2e-d8e042bc4c62"
      },
      "source": [
        "print('Class 0:', target_count[0])\n",
        "print('Class 1:', target_count[1])\n",
        "print('Proportion:', round(target_count[0] / target_count[1], 2), ': 1')\n",
        "\n",
        "count_no_acc = len(dataset_cleaned[dataset_cleaned['accepted']==0])\n",
        "count_acc = len(dataset_cleaned[dataset_cleaned['accepted']==1])\n",
        "pct_of_no_acc = count_no_acc/(count_no_acc+count_acc)\n",
        "print(\"percentage of no accepted is\", pct_of_no_acc*100)\n",
        "pct_of_acc = count_acc/(count_no_acc+count_acc)\n",
        "print(\"percentage of accepted\", pct_of_acc*100)\n",
        "\n",
        "target_count.plot(kind='bar', title='Count (accepted)');\n"
      ],
      "execution_count": 265,
      "outputs": [
        {
          "output_type": "stream",
          "text": [
            "Class 0: 210208\n",
            "Class 1: 228047\n",
            "Proportion: 0.92 : 1\n",
            "percentage of no accepted is 47.96476936943104\n",
            "percentage of accepted 52.03523063056896\n"
          ],
          "name": "stdout"
        },
        {
          "output_type": "display_data",
          "data": {
            "image/png": "[encoded data removed]",
            "text/plain": [
              "<Figure size 432x288 with 1 Axes>"
            ]
          },
          "metadata": {
            "tags": []
          }
        }
      ]
    },
    {
      "cell_type": "code",
      "metadata": {
        "id": "p0EYDRoGvTm0",
        "colab_type": "code",
        "colab": {}
      },
      "source": [
        ""
      ],
      "execution_count": 0,
      "outputs": []
    },
    {
      "cell_type": "markdown",
      "metadata": {
        "id": "1yqW9UEhvTm4",
        "colab_type": "text"
      },
      "source": [
        "# Observations:\n",
        "\n",
        "We observed that the classes are balanced since the proportion of the classes are 0.92 : 1. Moreover, Our classes are balanced, and the ratio of no-accepted to accepted instances is 47.96.\n"
      ]
    },
    {
      "cell_type": "markdown",
      "metadata": {
        "id": "nCFzP0devTm6",
        "colab_type": "text"
      },
      "source": [
        "#### We can calculate categorical means for other categorical variables such as education and marital status to get a more detailed sense of our data."
      ]
    },
    {
      "cell_type": "markdown",
      "metadata": {
        "id": "PgyCKiZvvTm8",
        "colab_type": "text"
      },
      "source": [
        "### Plotting accepted against the race of the applicant."
      ]
    },
    {
      "cell_type": "code",
      "metadata": {
        "id": "lTSGOSKMvTm9",
        "colab_type": "code",
        "colab": {
          "base_uri": "https://localhost:8080/",
          "height": 292
        },
        "outputId": "5fa09274-2dd2-4c07-d983-de514bf716fa"
      },
      "source": [
        "pd.crosstab(dataset_cleaned.applicant_race,dataset_cleaned.accepted).plot(kind='bar')\n",
        "plt.title('Acceptance Frequency for race')\n",
        "plt.xlabel('applicant race')\n",
        "plt.ylabel('Frequency of Acceptance')\n",
        "plt.savefig('pur_fre_applicant_race_bar')"
      ],
      "execution_count": 266,
      "outputs": [
        {
          "output_type": "display_data",
          "data": {
            "image/png": "[encoded data removed]",
            "text/plain": [
              "<Figure size 432x288 with 1 Axes>"
            ]
          },
          "metadata": {
            "tags": []
          }
        }
      ]
    },
    {
      "cell_type": "markdown",
      "metadata": {
        "id": "2CxAfeUDvTnC",
        "colab_type": "text"
      },
      "source": [
        "The applicant race can be defined as following :\n",
        "- 1 -- American Indian or Alaska Native\n",
        "- 2 -- Asian\n",
        "- 3 -- Black or African American\n",
        "- 4 -- Native Hawaiian or Other Pacific Islander\n",
        "- 5 -- White\n",
        "- 6 -- Information not provided by applicant in mail, Internet, or telephone application\n",
        "- 7 -- Not applicable\n",
        "- 8 -- No co-applicant\n",
        "\n",
        "From the graph we notice that the white people represente high frequency of acceptance. The American Indian or Alaska Native race have the lowest frequency close to 0."
      ]
    },
    {
      "cell_type": "markdown",
      "metadata": {
        "id": "oHsNjMqSvTnE",
        "colab_type": "text"
      },
      "source": [
        "### Plotting the frequence of accaptance against the sex of the applicant"
      ]
    },
    {
      "cell_type": "code",
      "metadata": {
        "id": "wTcKeQfwvTnE",
        "colab_type": "code",
        "colab": {
          "base_uri": "https://localhost:8080/",
          "height": 293
        },
        "outputId": "d1913020-f446-40da-c9e2-c959fe0170ab"
      },
      "source": [
        "pd.crosstab(dataset_cleaned.applicant_sex,dataset_cleaned.accepted).plot(kind='bar')\n",
        "plt.title('Acceptance Frequency for applicant_sex')\n",
        "plt.xlabel('applicant_sex')\n",
        "plt.ylabel('Frequency of Acceptance')\n",
        "plt.savefig('pur_fre_applicant_sex_bar')"
      ],
      "execution_count": 267,
      "outputs": [
        {
          "output_type": "display_data",
          "data": {
            "image/png": "[encoded data removed]",
            "text/plain": [
              "<Figure size 432x288 with 1 Axes>"
            ]
          },
          "metadata": {
            "tags": []
          }
        }
      ]
    },
    {
      "cell_type": "markdown",
      "metadata": {
        "id": "CvksFmBRvTnH",
        "colab_type": "text"
      },
      "source": [
        "The feature sex are :\n",
        "- 1 -- Male\n",
        "- 2 -- Female\n",
        "- 3 -- Information not provided by applicant in mail, Internet, or telephone application\n",
        "- 4 -- Not applicable\n",
        "\n",
        "The graph shows that the Acceptance frequency for male is higher compared to female almost the half.\n"
      ]
    },
    {
      "cell_type": "code",
      "metadata": {
        "id": "9dW4j6uOvTnI",
        "colab_type": "code",
        "colab": {}
      },
      "source": [
        "#pd.crosstab(dataset_cleaned.lender,dataset_cleaned.accepted).plot(kind='bar')\n",
        "#plt.title('Acceptance Frequency for lender')\n",
        "#plt.xlabel('lender')\n",
        "#plt.ylabel('Frequency of Accepted')\n",
        "#plt.savefig('pur_fre_property_type_bar')"
      ],
      "execution_count": 0,
      "outputs": []
    },
    {
      "cell_type": "code",
      "metadata": {
        "id": "8_UWp2a_vTnK",
        "colab_type": "code",
        "colab": {}
      },
      "source": [
        ""
      ],
      "execution_count": 0,
      "outputs": []
    },
    {
      "cell_type": "code",
      "metadata": {
        "id": "SokZ6IhWvTnS",
        "colab_type": "code",
        "colab": {}
      },
      "source": [
        "dataset_cleaned=dataset_cleaned.drop(columns =['lender']) "
      ],
      "execution_count": 0,
      "outputs": []
    },
    {
      "cell_type": "markdown",
      "metadata": {
        "id": "WM4k59lZvTnU",
        "colab_type": "text"
      },
      "source": [
        "### Plotting the frequence of accaptance against the property_type"
      ]
    },
    {
      "cell_type": "code",
      "metadata": {
        "id": "4HMXyQolvTnV",
        "colab_type": "code",
        "colab": {
          "base_uri": "https://localhost:8080/",
          "height": 292
        },
        "outputId": "7f57ef5c-1bda-4240-bf06-16f778408076"
      },
      "source": [
        "pd.crosstab(dataset_cleaned.property_type,dataset_cleaned.accepted).plot(kind='bar')\n",
        "plt.title('Acceptance Frequency for property_type')\n",
        "plt.xlabel('property_type')\n",
        "plt.ylabel('Frequency of Acceptance')\n",
        "plt.savefig('pur_fre_property_type_bar')"
      ],
      "execution_count": 270,
      "outputs": [
        {
          "output_type": "display_data",
          "data": {
            "image/png": "[encoded data removed]",
            "text/plain": [
              "<Figure size 432x288 with 1 Axes>"
            ]
          },
          "metadata": {
            "tags": []
          }
        }
      ]
    },
    {
      "cell_type": "markdown",
      "metadata": {
        "id": "p4tzjdRevTnY",
        "colab_type": "text"
      },
      "source": [
        "Acceptance Frequency for property_type:\n",
        "- 1 -- One to four-family (other than manufactured housing)\n",
        "- 2 -- Manufactured housing\n",
        "- 3 -- Multifamily\n",
        "\n",
        "From the graph we notice that we have just two property_type because we cleaned the data.\n",
        "\n",
        "The Acceptance Frequency for the type \"one to four family\" is higher than the \"Manufactured housing\" which is close to 0."
      ]
    },
    {
      "cell_type": "code",
      "metadata": {
        "id": "s-8A53L9vTnY",
        "colab_type": "code",
        "colab": {
          "base_uri": "https://localhost:8080/",
          "height": 292
        },
        "outputId": "d8c3b9a5-a75b-4342-ab92-61c30210ae71"
      },
      "source": [
        "pd.crosstab(dataset_cleaned.preapproval,dataset_cleaned.accepted).plot(kind='bar')\n",
        "plt.title('Acceptance Frequency for preapproval')\n",
        "plt.xlabel('preapproval')\n",
        "plt.ylabel('Frequency of Acceptance')\n",
        "plt.savefig('pur_fre_preapproval_type_bar')"
      ],
      "execution_count": 271,
      "outputs": [
        {
          "output_type": "display_data",
          "data": {
            "image/png": "[encoded data removed]",
            "text/plain": [
              "<Figure size 432x288 with 1 Axes>"
            ]
          },
          "metadata": {
            "tags": []
          }
        }
      ]
    },
    {
      "cell_type": "markdown",
      "metadata": {
        "id": "3rbH12l5vTnc",
        "colab_type": "text"
      },
      "source": [
        "Preapproval:\n",
        "- 1 -- Preapproval was requested\n",
        "- 2 -- Preapproval was not requested\n",
        "- 3 -- Not applicable\n",
        "\n",
        "From the graph we notice that the Preapproval of the \"not applicable\" is higher than the \"was not requested\" characteristics and the \"was requested\" that is closed to zero."
      ]
    },
    {
      "cell_type": "code",
      "metadata": {
        "id": "jQjIwSZYvTne",
        "colab_type": "code",
        "colab": {
          "base_uri": "https://localhost:8080/",
          "height": 292
        },
        "outputId": "74762cde-a6cb-4617-974e-fe45be76d656"
      },
      "source": [
        "pd.crosstab(dataset_cleaned.occupancy,dataset_cleaned.accepted).plot(kind='bar')\n",
        "plt.title('Acceptance Frequency for occupancy')\n",
        "plt.xlabel('occupancy')\n",
        "plt.ylabel('Frequency of Acceptance')\n",
        "plt.savefig('pur_fre_occupancy_type_bar')"
      ],
      "execution_count": 272,
      "outputs": [
        {
          "output_type": "display_data",
          "data": {
            "image/png": "[encoded data removed]",
            "text/plain": [
              "<Figure size 432x288 with 1 Axes>"
            ]
          },
          "metadata": {
            "tags": []
          }
        }
      ]
    },
    {
      "cell_type": "markdown",
      "metadata": {
        "id": "mPeTLMj3vTng",
        "colab_type": "text"
      },
      "source": [
        "The feature of occupancy is characterized by :\n",
        "- 1 -- Owner-occupied as a principal dwelling\n",
        "- 2 -- Not owner-occupied\n",
        "- 3 -- Not applicable\n",
        "\n",
        "The first characteristic presents the highest frequency compared to the others characteristics. With that characteristic the accepted frequency is higher about 10000 than the denied."
      ]
    },
    {
      "cell_type": "code",
      "metadata": {
        "id": "Njekv-YIvTnh",
        "colab_type": "code",
        "colab": {
          "base_uri": "https://localhost:8080/",
          "height": 293
        },
        "outputId": "92aadacc-7edd-4d43-b1f6-229d515f1fa2"
      },
      "source": [
        "pd.crosstab(dataset_cleaned.loan_purpose,dataset_cleaned.accepted).plot(kind='bar')\n",
        "plt.title('Acceptance Frequency for loan_purpose')\n",
        "plt.xlabel('loan_purpose')\n",
        "plt.ylabel('Frequency of Acceptance')\n",
        "plt.savefig('pur_fre_loan_purpose_type_bar')"
      ],
      "execution_count": 273,
      "outputs": [
        {
          "output_type": "display_data",
          "data": {
            "image/png": "[encoded data removed]",
            "text/plain": [
              "<Figure size 432x288 with 1 Axes>"
            ]
          },
          "metadata": {
            "tags": []
          }
        }
      ]
    },
    {
      "cell_type": "markdown",
      "metadata": {
        "id": "z48_RilFvTnp",
        "colab_type": "text"
      },
      "source": [
        "Loan-purposed:\n",
        "- 1 -- Home purchase\n",
        "- 2 -- Home improvement\n",
        "- 3 -- Refinancingwith \n",
        "\n",
        "Here the \"home purchase\" and the \"refinancing\" characteristics presente almost the same frequency level, but with the \"home purchase\" the accepted are higher than the denied and inversly for the \"refinancing\"."
      ]
    },
    {
      "cell_type": "code",
      "metadata": {
        "id": "lbAVV5gdvTnp",
        "colab_type": "code",
        "colab": {
          "base_uri": "https://localhost:8080/",
          "height": 364
        },
        "outputId": "fe6a9f68-eae6-4a77-d5b6-f45a3d969b00"
      },
      "source": [
        "for col in dataset_cleaned.columns: \n",
        "    print(col)     "
      ],
      "execution_count": 274,
      "outputs": [
        {
          "output_type": "stream",
          "text": [
            "loan_type\n",
            "property_type\n",
            "loan_purpose\n",
            "occupancy\n",
            "loan_amount\n",
            "preapproval\n",
            "msa_md\n",
            "state_code\n",
            "county_code\n",
            "applicant_race\n",
            "applicant_sex\n",
            "applicant_income\n",
            "population\n",
            "minority_population_pct\n",
            "ffiecmedian_family_income\n",
            "tract_to_msa_md_income_pct\n",
            "number_of_owner-occupied_units\n",
            "number_of_1_to_4_family_units\n",
            "co_applicant\n",
            "accepted\n"
          ],
          "name": "stdout"
        }
      ]
    },
    {
      "cell_type": "markdown",
      "metadata": {
        "id": "8VdZmXOIvTns",
        "colab_type": "text"
      },
      "source": [
        "# Observation"
      ]
    },
    {
      "cell_type": "markdown",
      "metadata": {
        "id": "Wg6o8a_YvTnt",
        "colab_type": "text"
      },
      "source": [
        "Part of the feature selection process, the above process was done in order to plot and visualize the level of dependency of the target variable \"accepted\" according to the independent categorical variables. Apparently, some features do not have much impact on the decision of approving the mortgage such as \"lender\", and therefore those features have been removed in the orediction process."
      ]
    },
    {
      "cell_type": "code",
      "metadata": {
        "id": "-ligHdmVvTnu",
        "colab_type": "code",
        "colab": {}
      },
      "source": [
        ""
      ],
      "execution_count": 0,
      "outputs": []
    },
    {
      "cell_type": "code",
      "metadata": {
        "id": "B7ey2AREvTn2",
        "colab_type": "code",
        "colab": {}
      },
      "source": [
        ""
      ],
      "execution_count": 0,
      "outputs": []
    },
    {
      "cell_type": "code",
      "metadata": {
        "id": "PhpToR1_vTn4",
        "colab_type": "code",
        "colab": {
          "base_uri": "https://localhost:8080/",
          "height": 364
        },
        "outputId": "97441491-029b-4885-c415-de56795195d6"
      },
      "source": [
        "for col in dataset_cleaned.columns: \n",
        "    print(col)     "
      ],
      "execution_count": 275,
      "outputs": [
        {
          "output_type": "stream",
          "text": [
            "loan_type\n",
            "property_type\n",
            "loan_purpose\n",
            "occupancy\n",
            "loan_amount\n",
            "preapproval\n",
            "msa_md\n",
            "state_code\n",
            "county_code\n",
            "applicant_race\n",
            "applicant_sex\n",
            "applicant_income\n",
            "population\n",
            "minority_population_pct\n",
            "ffiecmedian_family_income\n",
            "tract_to_msa_md_income_pct\n",
            "number_of_owner-occupied_units\n",
            "number_of_1_to_4_family_units\n",
            "co_applicant\n",
            "accepted\n"
          ],
          "name": "stdout"
        }
      ]
    },
    {
      "cell_type": "code",
      "metadata": {
        "id": "qGUgFKu8vTn8",
        "colab_type": "code",
        "colab": {}
      },
      "source": [
        "#dataset_cleaned=dataset_cleaned.drop(columns =['number_of_owner-occupied_units']) \n",
        "#dataset_cleaned=dataset_cleaned.drop(columns =['msa_md']) \n",
        "#dataset_cleaned=dataset_cleaned.drop(columns =['state_code']) \n",
        "#dataset_cleaned=dataset_cleaned.drop(columns =['preapproval']) \n",
        "#dataset_cleaned=dataset_cleaned.drop(columns =['occupancy'])"
      ],
      "execution_count": 0,
      "outputs": []
    },
    {
      "cell_type": "markdown",
      "metadata": {
        "id": "MfsNBDTovTn-",
        "colab_type": "text"
      },
      "source": [
        "# Feature selection process"
      ]
    },
    {
      "cell_type": "markdown",
      "metadata": {
        "id": "q7IrEAuHvTn_",
        "colab_type": "text"
      },
      "source": [
        "Feature selection can be done in multiple ways but there are broadly 3 categories of it:\n",
        "\n",
        "1. Filter Method\n",
        "\n",
        "2. Wrapper Method\n",
        "\n",
        "3. Embedded Method\n",
        "\n",
        "we used the Recursive Feature Elimination and backward elimination which are techniques used in wrapper method for selecting the features.\n"
      ]
    },
    {
      "cell_type": "code",
      "metadata": {
        "id": "OhgT3T5TvToA",
        "colab_type": "code",
        "colab": {}
      },
      "source": [
        "#corr = dataset_cleaned.corr()"
      ],
      "execution_count": 0,
      "outputs": []
    },
    {
      "cell_type": "code",
      "metadata": {
        "id": "WiwE0mZ_vToC",
        "colab_type": "code",
        "colab": {}
      },
      "source": [
        "#plt.figure(figsize=(15,10))\n",
        "#sns.heatmap(corr)"
      ],
      "execution_count": 0,
      "outputs": []
    },
    {
      "cell_type": "code",
      "metadata": {
        "id": "HiMdpCK3vToE",
        "colab_type": "code",
        "colab": {}
      },
      "source": [
        ""
      ],
      "execution_count": 0,
      "outputs": []
    },
    {
      "cell_type": "markdown",
      "metadata": {
        "id": "uFhF7BTXvToG",
        "colab_type": "text"
      },
      "source": [
        "###  Splitting the data into two types of variables dependent(or target variable) and independent variable(or feature variables)."
      ]
    },
    {
      "cell_type": "code",
      "metadata": {
        "id": "Bc-zflvavToH",
        "colab_type": "code",
        "colab": {}
      },
      "source": [
        ""
      ],
      "execution_count": 0,
      "outputs": []
    },
    {
      "cell_type": "code",
      "metadata": {
        "id": "BvDCqiDlvToI",
        "colab_type": "code",
        "colab": {}
      },
      "source": [
        "X= dataset_cleaned.drop(columns=['accepted'])\n",
        "Y = dataset_cleaned['accepted']\n",
        "\n",
        " "
      ],
      "execution_count": 0,
      "outputs": []
    },
    {
      "cell_type": "code",
      "metadata": {
        "id": "QxB3qf4rvToK",
        "colab_type": "code",
        "colab": {
          "base_uri": "https://localhost:8080/",
          "height": 34
        },
        "outputId": "82b53cae-2e1a-4572-911c-dbe128b1dc92"
      },
      "source": [
        "X.shape # Viewing the shape after spliting"
      ],
      "execution_count": 287,
      "outputs": [
        {
          "output_type": "execute_result",
          "data": {
            "text/plain": [
              "(438255, 14)"
            ]
          },
          "metadata": {
            "tags": []
          },
          "execution_count": 287
        }
      ]
    },
    {
      "cell_type": "code",
      "metadata": {
        "id": "7Ui4f2UxvToM",
        "colab_type": "code",
        "colab": {
          "base_uri": "https://localhost:8080/",
          "height": 34
        },
        "outputId": "d02cc36a-449d-4542-e59c-bbd21c021849"
      },
      "source": [
        "Y.shape"
      ],
      "execution_count": 288,
      "outputs": [
        {
          "output_type": "execute_result",
          "data": {
            "text/plain": [
              "(438255,)"
            ]
          },
          "metadata": {
            "tags": []
          },
          "execution_count": 288
        }
      ]
    },
    {
      "cell_type": "code",
      "metadata": {
        "id": "5dKReZDBvToR",
        "colab_type": "code",
        "colab": {}
      },
      "source": [
        ""
      ],
      "execution_count": 0,
      "outputs": []
    },
    {
      "cell_type": "markdown",
      "metadata": {
        "id": "eAZVAE5OvToU",
        "colab_type": "text"
      },
      "source": [
        "## 1. Recursive Feature Elimination"
      ]
    },
    {
      "cell_type": "markdown",
      "metadata": {
        "id": "Y5m-GzfhvToU",
        "colab_type": "text"
      },
      "source": [
        "We will use RFE with the Logistic Regression classifier to select the top features"
      ]
    },
    {
      "cell_type": "code",
      "metadata": {
        "id": "tDLPITL3vToV",
        "colab_type": "code",
        "colab": {
          "base_uri": "https://localhost:8080/",
          "height": 141
        },
        "outputId": "07b7adca-0218-4bcc-c6e7-baf4afca6ffc"
      },
      "source": [
        "dataset_cleaned_vars=dataset_cleaned.columns.values.tolist()\n",
        "from sklearn.feature_selection import RFE\n",
        "from sklearn.linear_model import LogisticRegression\n",
        "logreg = LogisticRegression()\n",
        "rfe = RFE(logreg, 20)\n",
        "rfe = rfe.fit(X, Y)\n",
        "print(\"Feature selected: %s\" %rfe.support_)\n",
        "print(\"Feature Ranking: %s\" % rfe.ranking_)\n",
        "print(\"the number of features: %s\" % rfe.n_features_)\n",
        "#print(\"Num Features: %s\" % (fit.n_features_))\n",
        "#print(\"Selected Features: %s\" % (fit.support_))\n",
        "#print(\"Feature Ranking: %s\" % (fit.ranking_))"
      ],
      "execution_count": 289,
      "outputs": [
        {
          "output_type": "stream",
          "text": [
            "/usr/local/lib/python3.6/dist-packages/sklearn/linear_model/logistic.py:432: FutureWarning: Default solver will be changed to 'lbfgs' in 0.22. Specify a solver to silence this warning.\n",
            "  FutureWarning)\n"
          ],
          "name": "stderr"
        },
        {
          "output_type": "stream",
          "text": [
            "Feature selected: [ True  True  True  True  True  True  True  True  True  True  True  True\n",
            "  True  True]\n",
            "Feature Ranking: [1 1 1 1 1 1 1 1 1 1 1 1 1 1]\n",
            "the number of features: 14\n"
          ],
          "name": "stdout"
        }
      ]
    },
    {
      "cell_type": "markdown",
      "metadata": {
        "id": "Uk5iO_lzvToY",
        "colab_type": "text"
      },
      "source": [
        "Based on the test performed it is clear that most of the features have to participate in the prediction process. These are marked True in the support array and marked with a choice “1” in the ranking array. This, in turn, indicates the strength of these features. \n",
        "\n",
        "However, additional test can be done in order to select relavant features. "
      ]
    },
    {
      "cell_type": "markdown",
      "metadata": {
        "id": "OfxM819zvToZ",
        "colab_type": "text"
      },
      "source": [
        "## 2. Step Backwards Feature Selection\n"
      ]
    },
    {
      "cell_type": "markdown",
      "metadata": {
        "id": "nQ7ycwK4vToa",
        "colab_type": "text"
      },
      "source": [
        "The performance metric used here to evaluate feature performance is pvalue. If the pvalue is above 0.05 then we remove the feature, else we keep it."
      ]
    },
    {
      "cell_type": "code",
      "metadata": {
        "id": "k5Y2I3mGvTob",
        "colab_type": "code",
        "colab": {
          "base_uri": "https://localhost:8080/",
          "height": 573
        },
        "outputId": "cb5f61ff-e893-4667-c8b0-388a0183441e"
      },
      "source": [
        "import statsmodels.api as sm\n",
        "logit_model=sm.Logit(Y,X)\n",
        "result=logit_model.fit()\n",
        "print(result.summary2())"
      ],
      "execution_count": 290,
      "outputs": [
        {
          "output_type": "stream",
          "text": [
            "Optimization terminated successfully.\n",
            "         Current function value: 0.646439\n",
            "         Iterations 5\n",
            "                                Results: Logit\n",
            "===============================================================================\n",
            "Model:                   Logit                Pseudo R-squared:     0.066      \n",
            "Dependent Variable:      accepted             AIC:                  566638.4485\n",
            "Date:                    2019-12-30 12:55     BIC:                  566792.3163\n",
            "No. Observations:        438255               Log-Likelihood:       -2.8331e+05\n",
            "Df Model:                13                   LL-Null:              -3.0341e+05\n",
            "Df Residuals:            438241               LLR p-value:          0.0000     \n",
            "Converged:               1.0000               Scale:                1.0000     \n",
            "No. Iterations:          5.0000                                                \n",
            "-------------------------------------------------------------------------------\n",
            "                               Coef.  Std.Err.     z     P>|z|   [0.025  0.975]\n",
            "-------------------------------------------------------------------------------\n",
            "loan_type                     -0.0420   0.0048   -8.7402 0.0000 -0.0514 -0.0326\n",
            "property_type                 -1.1779   0.0161  -73.0819 0.0000 -1.2095 -1.1463\n",
            "loan_purpose                  -0.4890   0.0035 -141.3137 0.0000 -0.4957 -0.4822\n",
            "loan_amount                    0.0004   0.0000   17.6725 0.0000  0.0003  0.0004\n",
            "county_code                   -0.0001   0.0000   -2.9179 0.0035 -0.0002 -0.0000\n",
            "applicant_race                 0.1133   0.0031   36.1783 0.0000  0.1072  0.1194\n",
            "applicant_sex                 -0.1110   0.0054  -20.4210 0.0000 -0.1216 -0.1003\n",
            "applicant_income               0.0004   0.0000   12.5451 0.0000  0.0003  0.0004\n",
            "population                     0.0000   0.0000   17.2079 0.0000  0.0000  0.0000\n",
            "minority_population_pct       -0.0038   0.0001  -27.9292 0.0000 -0.0041 -0.0036\n",
            "ffiecmedian_family_income      0.0000   0.0000   52.3473 0.0000  0.0000  0.0000\n",
            "tract_to_msa_md_income_pct     0.0119   0.0002   55.9634 0.0000  0.0115  0.0123\n",
            "number_of_1_to_4_family_units -0.0001   0.0000  -15.2708 0.0000 -0.0001 -0.0001\n",
            "co_applicant                   0.3455   0.0068   50.5718 0.0000  0.3321  0.3589\n",
            "===============================================================================\n",
            "\n"
          ],
          "name": "stdout"
        }
      ]
    },
    {
      "cell_type": "code",
      "metadata": {
        "id": "8nD6f6R-vTod",
        "colab_type": "code",
        "colab": {}
      },
      "source": [
        ""
      ],
      "execution_count": 0,
      "outputs": []
    },
    {
      "cell_type": "code",
      "metadata": {
        "id": "tcQowIthvTof",
        "colab_type": "code",
        "colab": {}
      },
      "source": [
        "#!pip3 install mlxtend  "
      ],
      "execution_count": 0,
      "outputs": []
    },
    {
      "cell_type": "markdown",
      "metadata": {
        "id": "OX2f9bMHvToi",
        "colab_type": "text"
      },
      "source": [
        "##### The p-values for most of the variables are smaller than 0.05, except one variable, therefore, we will remove it. This variable is \"applicant_ethnicity\""
      ]
    },
    {
      "cell_type": "markdown",
      "metadata": {
        "id": "dL1r_m2dvToi",
        "colab_type": "text"
      },
      "source": [
        "#### After perfectly chosen the right features to use in this prediction, we proceeded in implementing the logistic model. However, \n",
        "\n",
        "#### we started by splitting the data into training and testing data in order to prepare and adapt the data to the system \n",
        "\n",
        "#### implementation."
      ]
    },
    {
      "cell_type": "markdown",
      "metadata": {
        "id": "bXA3w34BvToj",
        "colab_type": "text"
      },
      "source": [
        "###  Splitting the data into the training and testing data"
      ]
    },
    {
      "cell_type": "code",
      "metadata": {
        "id": "sTtnc6fSvTok",
        "colab_type": "code",
        "colab": {}
      },
      "source": [
        "from sklearn.model_selection import train_test_split\n",
        "X_train, X_test, Y_train, Y_test = train_test_split(X, Y, test_size=0.20, random_state=1)\n"
      ],
      "execution_count": 0,
      "outputs": []
    },
    {
      "cell_type": "markdown",
      "metadata": {
        "id": "Uxa2-rbHvTon",
        "colab_type": "text"
      },
      "source": [
        "we split $80\\%$ of the data into training set while $20\\%$ of the data to test set using below code."
      ]
    },
    {
      "cell_type": "code",
      "metadata": {
        "id": "QThnf8DPvTop",
        "colab_type": "code",
        "colab": {
          "base_uri": "https://localhost:8080/",
          "height": 34
        },
        "outputId": "6fe13314-fb65-4821-bbff-2123079faf3a"
      },
      "source": [
        "X_train.shape"
      ],
      "execution_count": 293,
      "outputs": [
        {
          "output_type": "execute_result",
          "data": {
            "text/plain": [
              "(350604, 14)"
            ]
          },
          "metadata": {
            "tags": []
          },
          "execution_count": 293
        }
      ]
    },
    {
      "cell_type": "code",
      "metadata": {
        "id": "a1X8T3jGvTor",
        "colab_type": "code",
        "colab": {
          "base_uri": "https://localhost:8080/",
          "height": 34
        },
        "outputId": "b0ed8143-2c34-45ca-b741-a4c5000d760a"
      },
      "source": [
        "Y_train.shape"
      ],
      "execution_count": 294,
      "outputs": [
        {
          "output_type": "execute_result",
          "data": {
            "text/plain": [
              "(350604,)"
            ]
          },
          "metadata": {
            "tags": []
          },
          "execution_count": 294
        }
      ]
    },
    {
      "cell_type": "code",
      "metadata": {
        "id": "eh8DJqq5vTou",
        "colab_type": "code",
        "colab": {
          "base_uri": "https://localhost:8080/",
          "height": 34
        },
        "outputId": "41873b9b-6d85-4b93-f598-ee0326396426"
      },
      "source": [
        "X_test.shape"
      ],
      "execution_count": 295,
      "outputs": [
        {
          "output_type": "execute_result",
          "data": {
            "text/plain": [
              "(87651, 14)"
            ]
          },
          "metadata": {
            "tags": []
          },
          "execution_count": 295
        }
      ]
    },
    {
      "cell_type": "code",
      "metadata": {
        "id": "QQSjVTNAvTox",
        "colab_type": "code",
        "colab": {
          "base_uri": "https://localhost:8080/",
          "height": 34
        },
        "outputId": "59b4e6ba-cc75-4800-eb4d-3f7bef5dbf8d"
      },
      "source": [
        "Y_test.shape"
      ],
      "execution_count": 296,
      "outputs": [
        {
          "output_type": "execute_result",
          "data": {
            "text/plain": [
              "(87651,)"
            ]
          },
          "metadata": {
            "tags": []
          },
          "execution_count": 296
        }
      ]
    },
    {
      "cell_type": "markdown",
      "metadata": {
        "id": "W-ub79nGvToz",
        "colab_type": "text"
      },
      "source": [
        "## Scaling the data. this process was performed in order to normalize the data"
      ]
    },
    {
      "cell_type": "code",
      "metadata": {
        "id": "AzJzB_znvToz",
        "colab_type": "code",
        "colab": {
          "base_uri": "https://localhost:8080/",
          "height": 121
        },
        "outputId": "4c3e06d3-d272-417a-9454-4915729d2817"
      },
      "source": [
        "scaler = preprocessing.StandardScaler().fit(X_train)\n",
        "X_train = scaler.transform(X_train)\n",
        "X_test = scaler.transform(X_test)\n",
        "X_train[:2,]"
      ],
      "execution_count": 218,
      "outputs": [
        {
          "output_type": "execute_result",
          "data": {
            "text/plain": [
              "array([[ 1.02111381, -0.19475283,  0.99391477, -0.32702794, -0.23497574,\n",
              "        -0.51941586,  0.23536504, -0.6907991 , -0.19073496, -0.18334384,\n",
              "        -0.59748234, -1.13929136,  0.57037416, -0.45359604,  1.20285717],\n",
              "       [-0.48793435, -0.19475283,  0.99391477, -0.32702794, -0.00541578,\n",
              "         0.3615226 ,  0.23536504,  0.91531327, -0.02235118,  0.31664688,\n",
              "        -0.67951939,  0.16925827,  0.57037416,  0.13198255,  1.20285717]])"
            ]
          },
          "metadata": {
            "tags": []
          },
          "execution_count": 218
        }
      ]
    },
    {
      "cell_type": "markdown",
      "metadata": {
        "id": "oyMgGxovvTo2",
        "colab_type": "text"
      },
      "source": [
        "# Building our Logistic model"
      ]
    },
    {
      "cell_type": "markdown",
      "metadata": {
        "id": "walBe3WVvTo3",
        "colab_type": "text"
      },
      "source": [
        "### Logistic Regression process\n",
        "\n",
        "\n",
        "Given a $data(X,Y)$, X being a matrix of values with m examples (19 in our case of study after selecting the best features) and n features and Y being a vector with m examples (1 target variable \"accepted\" in this particular problem). The objective is to train the model to predict which class the future values belong to. \n",
        "\n",
        "\n",
        "1. Primarily, we create a weight matrix with random initialization. Then we multiply it by features.\n",
        "\n",
        "\n",
        "$$F1 = W_o + W_1X_1+ W_2X_2 + W_3X_3+....+ W_nX_n$$\n",
        "\n",
        "2. We then pass the output obtained from Eq 1. to a link function.\n",
        "\n",
        "$$F(\\hat{y}i) = \\frac{1}{1 + e^{-\\kappa( \\beta_0 + \\beta_1\\ x_1+....+\\beta_n\\ x_n)}} $$\n",
        "\n",
        "\n",
        "3. This is followed by calculating the cost for that iteration whose formula is\n",
        "\n",
        "$$cost(w)=(-1/m) \\sum_{{i=1}}^{i=m} \\hat{y}i \\quad log(yi) + (1-yi) log (1-\\hat{y}i) $$ \n",
        "\n",
        "4. The derivative of this cost is calculated following which the weights are updated.\n",
        "\n",
        "$$dwj= \\sum_{{i=1}}^{in} (\\hat{y}-y)x^{i}_{j}$$\n",
        "\n",
        "$$wi=wj-(\\alpha * dwj)$$ \n",
        "\n",
        "$\\implies$ For the update of the weights\n",
        "\n",
        "However the Logistic regression model for solving this problem will be implemented by  Scikit-learn  in the given code below. This code will compute all the mathematics described above.\n",
        " \n"
      ]
    },
    {
      "cell_type": "code",
      "metadata": {
        "id": "Dm-IO0-tvTo4",
        "colab_type": "code",
        "colab": {}
      },
      "source": [
        "#### Instantiate the Logistic Regression model using default and use fit() function to train your model."
      ],
      "execution_count": 0,
      "outputs": []
    },
    {
      "cell_type": "code",
      "metadata": {
        "id": "juJremzuvTo5",
        "colab_type": "code",
        "colab": {
          "base_uri": "https://localhost:8080/",
          "height": 72
        },
        "outputId": "1e0c5e0f-92a0-45cd-efc0-b6ad5725caf1"
      },
      "source": [
        "from sklearn.linear_model import LogisticRegression\n",
        "\n",
        "logistic_mod1 = linear_model.LogisticRegression() \n",
        "logistic_mod=logistic_mod1.fit(X_train, Y_train)"
      ],
      "execution_count": 220,
      "outputs": [
        {
          "output_type": "stream",
          "text": [
            "/usr/local/lib/python3.6/dist-packages/sklearn/linear_model/logistic.py:432: FutureWarning: Default solver will be changed to 'lbfgs' in 0.22. Specify a solver to silence this warning.\n",
            "  FutureWarning)\n"
          ],
          "name": "stderr"
        }
      ]
    },
    {
      "cell_type": "code",
      "metadata": {
        "id": "LkC7ZE3ivTo-",
        "colab_type": "code",
        "colab": {}
      },
      "source": [
        ""
      ],
      "execution_count": 0,
      "outputs": []
    },
    {
      "cell_type": "markdown",
      "metadata": {
        "id": "rQzxK6jnvTpB",
        "colab_type": "text"
      },
      "source": [
        "#### Now, print and examine the model coefficients by executing the code in the cell below. "
      ]
    },
    {
      "cell_type": "code",
      "metadata": {
        "id": "jClqfi5_vTpD",
        "colab_type": "code",
        "colab": {
          "base_uri": "https://localhost:8080/",
          "height": 86
        },
        "outputId": "7f30adbf-71bc-4e43-e269-b4c598f2e120"
      },
      "source": [
        "print(logistic_mod.intercept_)\n",
        "print(logistic_mod.coef_)"
      ],
      "execution_count": 221,
      "outputs": [
        {
          "output_type": "stream",
          "text": [
            "[0.09154001]\n",
            "[[-0.05078161 -0.2674952  -0.47673442 -0.00395314  0.08594466 -0.01450463\n",
            "   0.07734626 -0.07507446  0.05237797  0.12794033 -0.15037073  0.11722387\n",
            "   0.10746693 -0.12610536  0.16547633]]\n"
          ],
          "name": "stdout"
        }
      ]
    },
    {
      "cell_type": "markdown",
      "metadata": {
        "id": "eoWVjp2xvTpH",
        "colab_type": "text"
      },
      "source": [
        "####  We notice that model coefficients look similar to that of a regression model. \n",
        "\n",
        "Recall that the logistic regression model outputs probabilities for each class. The class with the highest probability is taken as the score (prediction). Execute the code and the cell below to compute and display a sample of these class probabilities for the test feature set. \n",
        "\n",
        "What logistic regression does is that it calculates a conditional probability.\n",
        "\n",
        "1. Probability for class 1\n",
        "\n",
        "$$P(Y=1|X;W)$$\n",
        "\n",
        "2. Probability for class 0\n",
        "\n",
        "$$P(Y=0|X;W)$$\n"
      ]
    },
    {
      "cell_type": "code",
      "metadata": {
        "id": "_zd1UNDnvTpI",
        "colab_type": "code",
        "colab": {
          "base_uri": "https://localhost:8080/",
          "height": 278
        },
        "outputId": "a95fb76a-5c01-475a-85e8-6ff73a1fdb7d"
      },
      "source": [
        "probabilities = logistic_mod.predict_proba(X_test)\n",
        "print(probabilities[:15,:])"
      ],
      "execution_count": 222,
      "outputs": [
        {
          "output_type": "stream",
          "text": [
            "[[0.55550552 0.44449448]\n",
            " [0.66688158 0.33311842]\n",
            " [0.39730105 0.60269895]\n",
            " [0.44088878 0.55911122]\n",
            " [0.70860041 0.29139959]\n",
            " [0.56662815 0.43337185]\n",
            " [0.51539252 0.48460748]\n",
            " [0.6281274  0.3718726 ]\n",
            " [0.7248241  0.2751759 ]\n",
            " [0.37549776 0.62450224]\n",
            " [0.45059725 0.54940275]\n",
            " [0.32765851 0.67234149]\n",
            " [0.66010235 0.33989765]\n",
            " [0.58789744 0.41210256]\n",
            " [0.64103948 0.35896052]]\n"
          ],
          "name": "stdout"
        }
      ]
    },
    {
      "cell_type": "markdown",
      "metadata": {
        "id": "9-t4B7E-vTpP",
        "colab_type": "text"
      },
      "source": [
        " #### Logistic regression model outputs probabilities for each class. We take the class with the highest probability as the score (prediction).\n",
        "\n",
        "In this case study, we deal with two classes 1 and 0. Therefore, the threshold is 0.5.\n",
        "\n",
        "if $P(Y=0) > 0.5$ then obviously $P(Y=0) > P(Y=1)$. The same stands for the multiclass setting: again, it chooses the class with the biggest probability."
      ]
    },
    {
      "cell_type": "code",
      "metadata": {
        "id": "wiZmgNzyvTpP",
        "colab_type": "code",
        "colab": {
          "base_uri": "https://localhost:8080/",
          "height": 243
        },
        "outputId": "e63d8b76-6d91-4fdb-ed8d-a58e0efcff44"
      },
      "source": [
        "def score_model(probs, threshold):\n",
        "    return np.array([1 if x > threshold else 0 for x in probs[:,1]])\n",
        "scores = score_model(probabilities, 0.5)\n",
        "print(np.array(scores))\n",
        "print(Y_test)"
      ],
      "execution_count": 223,
      "outputs": [
        {
          "output_type": "stream",
          "text": [
            "[0 0 1 ... 0 1 1]\n",
            "226677    1\n",
            "233210    0\n",
            "442300    0\n",
            "304317    0\n",
            "204148    1\n",
            "         ..\n",
            "493326    1\n",
            "149422    0\n",
            "215887    1\n",
            "154906    0\n",
            "33764     1\n",
            "Name: accepted, Length: 87651, dtype: int64\n"
          ],
          "name": "stdout"
        }
      ]
    },
    {
      "cell_type": "markdown",
      "metadata": {
        "id": "Vv05vAzVvTpR",
        "colab_type": "text"
      },
      "source": [
        "# Model Evaluation using Confusion Matrix"
      ]
    },
    {
      "cell_type": "markdown",
      "metadata": {
        "id": "WAUGTWEGvTpS",
        "colab_type": "text"
      },
      "source": [
        " **We use confusion matrix to evaluate the performance of our model by laying out the correctly and incorrectly classified cases in a tabular format** \n",
        "\n",
        "  There are various metrics derived from the values in the confusion matrix. We review some of the common cases below. \n",
        "\n",
        "**Confusion matrix**\n",
        "\n",
        "For our binary case the confusion matrix is organized as follows:\n",
        "\n",
        "| | **Scored Positive** | **Scored Negative**|  \n",
        "|------|:------:|:------:| \n",
        "|**Actual Positive** | True Positive | False Negative |\n",
        "|**Actual Negative**| False Positive | True Negative |   \n",
        "\n",
        "Here the four elements in the matrix are defined as:    \n",
        "\n",
        "$\\bullet$ true positives (TP): These are cases in which we predicted yes and are actually yes.\n",
        "\n",
        "$\\bullet$true negatives (TN): We predicted no, and no in actual.\n",
        "\n",
        "$\\bullet$false positives (FP): We predicted yes, but actual is no. (Type I error)\n",
        "\n",
        "$\\bullet$false negatives (FN): We predicted no, yes in actual. (Type II error)\n",
        "\n",
        "**Accuracy**\n",
        "\n",
        "Accuracy is the fraction of cases correctly classified. For this case accuracy is written as\n",
        "\n",
        "$$Accuracy = \\frac{TP+TN}{TP+FP+TN+FN}$$ \n",
        "\n",
        "**Precision**\n",
        "\n",
        "Precision is the fraction of correctly classified label cases out of all cases classified with that label value. We can express precision by the following relationship:\n",
        "\n",
        "$$Precision = \\frac{M_{i,i}}{\\sum_j M_{i,j}}$$\n",
        "\n",
        "We can say that the precision statistic is the number of correctly classified cases for the label value divided by all the cases in the column. Thus, precision is sensitive to the number of cases correctly classified for a given score value. \n",
        "\n",
        "**Recall**  \n",
        "\n",
        "Recall is the fraction of cases of a label value correctly classified out of all cases that actually have that label value. We can express recall by the following relationship:\n",
        "\n",
        "$$Recall = \\frac{M_{i,i}}{\\sum_i M_{i,j}}$$\n",
        "\n",
        "We can say that the recall statistic is the number of correctly classified cases for the label value divided by all the cases in the row. Thus, precision is sensitive to the number of cases correctly classified for a given true label value. \n",
        "\n",
        "**F1**\n",
        "\n",
        "The F1 statistic is weighted average of precision and recall. We can express F1 by the following relationship:\n",
        "\n",
        "$$F1 = 2 * \\frac{precision * recall}{precision + recall}$$\n",
        "\n",
        "Said differenlty, F1 is a weighted metric for overall model performance. \n",
        "\n",
        " "
      ]
    },
    {
      "cell_type": "markdown",
      "metadata": {
        "id": "iup0DpSdvTpS",
        "colab_type": "text"
      },
      "source": [
        ""
      ]
    },
    {
      "cell_type": "code",
      "metadata": {
        "id": "AuhcO_AwvTpT",
        "colab_type": "code",
        "colab": {}
      },
      "source": [
        "y_pred=logistic_mod.predict(X_test)"
      ],
      "execution_count": 0,
      "outputs": []
    },
    {
      "cell_type": "code",
      "metadata": {
        "id": "-CxcLwcXvTpU",
        "colab_type": "code",
        "colab": {
          "base_uri": "https://localhost:8080/",
          "height": 52
        },
        "outputId": "861dad5f-a209-414d-8a81-a63654de114f"
      },
      "source": [
        "# import the metrics class\n",
        "from sklearn import metrics\n",
        "cnf_matrix = metrics.confusion_matrix(Y_test, y_pred)\n",
        "cnf_matrix"
      ],
      "execution_count": 225,
      "outputs": [
        {
          "output_type": "execute_result",
          "data": {
            "text/plain": [
              "array([[25284, 17024],\n",
              "       [15256, 30087]])"
            ]
          },
          "metadata": {
            "tags": []
          },
          "execution_count": 225
        }
      ]
    },
    {
      "cell_type": "markdown",
      "metadata": {
        "id": "HruyYnmSvTpW",
        "colab_type": "text"
      },
      "source": [
        "# Visualizing Confusion Matrix using Heatmap"
      ]
    },
    {
      "cell_type": "code",
      "metadata": {
        "id": "4w9McVErvTpW",
        "colab_type": "code",
        "colab": {}
      },
      "source": [
        "import numpy as np\n",
        "import matplotlib.pyplot as plt\n",
        "import seaborn as sns\n",
        "%matplotlib inline"
      ],
      "execution_count": 0,
      "outputs": []
    },
    {
      "cell_type": "code",
      "metadata": {
        "id": "81dWvsTJvTpY",
        "colab_type": "code",
        "colab": {
          "base_uri": "https://localhost:8080/",
          "height": 340
        },
        "outputId": "a485d24a-fe6a-420e-920d-5b35c681c283"
      },
      "source": [
        "class_names=[0,1] # name  of classes\n",
        "fig, ax = plt.subplots()\n",
        "tick_marks = np.arange(len(class_names))\n",
        "plt.xticks(tick_marks, class_names)\n",
        "plt.yticks(tick_marks, class_names)\n",
        "# create heatmap\n",
        "sns.heatmap(pd.DataFrame(cnf_matrix), annot=True, cmap=\"YlGnBu\" ,fmt='g')\n",
        "ax.xaxis.set_label_position(\"top\")\n",
        "plt.tight_layout()\n",
        "plt.title('Confusion matrix', y=1.1)\n",
        "plt.ylabel('Actual label')\n",
        "plt.xlabel('Predicted label')"
      ],
      "execution_count": 227,
      "outputs": [
        {
          "output_type": "execute_result",
          "data": {
            "text/plain": [
              "Text(0.5, 257.44, 'Predicted label')"
            ]
          },
          "metadata": {
            "tags": []
          },
          "execution_count": 227
        },
        {
          "output_type": "display_data",
          "data": {
            "image/png": "[encoded data removed]",
            "text/plain": [
              "<Figure size 432x288 with 2 Axes>"
            ]
          },
          "metadata": {
            "tags": []
          }
        }
      ]
    },
    {
      "cell_type": "markdown",
      "metadata": {
        "id": "E4GfxebIvTpa",
        "colab_type": "text"
      },
      "source": [
        "# Results from the model\n",
        "\n",
        "$\\bullet$ true positives (TP): 25431 have beeen predicted at true positives.\n",
        "\n",
        "$\\bullet$true negatives (TN): 16877 have beeen predicted at true negatives.\n",
        "\n",
        "$\\bullet$false positives (FP):  15244 have beeen predicted at false positives.\n",
        "\n",
        "$\\bullet$false negatives (FN): 30099 have beeen predicted at false negatives.\n"
      ]
    },
    {
      "cell_type": "code",
      "metadata": {
        "id": "CmzQtvUtvTpb",
        "colab_type": "code",
        "colab": {
          "base_uri": "https://localhost:8080/",
          "height": 69
        },
        "outputId": "05d43d19-6137-40b3-d1f5-c91bd732103a"
      },
      "source": [
        "print(\"Accuracy of the model:\",metrics.accuracy_score(Y_test, y_pred))\n",
        "print(\"Precision of the model:\",metrics.precision_score(Y_test, y_pred))\n",
        "print(\"Recall:\",metrics.recall_score(Y_test, y_pred))"
      ],
      "execution_count": 228,
      "outputs": [
        {
          "output_type": "stream",
          "text": [
            "Accuracy of the model: 0.6317212581716124\n",
            "Precision of the model: 0.6386406571713612\n",
            "Recall: 0.6635423328848995\n"
          ],
          "name": "stdout"
        }
      ]
    },
    {
      "cell_type": "markdown",
      "metadata": {
        "id": "14sLykARvTpd",
        "colab_type": "text"
      },
      "source": [
        "# ROC and AUC metrics\n",
        "\n",
        "AUC gives the rate of successful classification by the logistic model.\n",
        "\n",
        "Receiver Operating Characteristic (ROC) curve is a plot of the true positive rate against the false positive rate. It shows the tradeoff between sensitivity and specificity."
      ]
    },
    {
      "cell_type": "code",
      "metadata": {
        "id": "wnGMUnkbvTpd",
        "colab_type": "code",
        "colab": {
          "base_uri": "https://localhost:8080/",
          "height": 295
        },
        "outputId": "4a6843a3-d507-4be5-a1c6-1e8727a41000"
      },
      "source": [
        "def plot_auc(labels, probs):\n",
        "    ## Compute the false positive rate, true positive rate\n",
        "    ## and threshold along with the AUC\n",
        "    fpr, tpr, threshold = sklm.roc_curve(labels, probs[:,1])\n",
        "    auc = sklm.auc(fpr, tpr)\n",
        "    \n",
        "    ## Plot the result\n",
        "    plt.title('Receiver Operating Characteristic')\n",
        "    plt.plot(fpr, tpr, color = 'orange', label = 'AUC = %0.2f' % auc)\n",
        "    plt.legend(loc = 'lower right')\n",
        "    plt.plot([0, 1], [0, 1],'r--')\n",
        "    plt.xlim([0, 1])\n",
        "    plt.ylim([0, 1])\n",
        "    plt.ylabel('True Positive Rate')\n",
        "    plt.xlabel('False Positive Rate')\n",
        "    plt.show()\n",
        "    \n",
        "plot_auc(Y_test, probabilities)    "
      ],
      "execution_count": 229,
      "outputs": [
        {
          "output_type": "display_data",
          "data": {
            "image/png": "[encoded data removed]",
            "text/plain": [
              "<Figure size 432x288 with 1 Axes>"
            ]
          },
          "metadata": {
            "tags": []
          }
        }
      ]
    },
    {
      "cell_type": "code",
      "metadata": {
        "id": "NO_A0zg-vTpg",
        "colab_type": "code",
        "colab": {}
      },
      "source": [
        ""
      ],
      "execution_count": 0,
      "outputs": []
    },
    {
      "cell_type": "code",
      "metadata": {
        "id": "eAkAQ3ZuvTph",
        "colab_type": "code",
        "colab": {}
      },
      "source": [
        ""
      ],
      "execution_count": 0,
      "outputs": []
    },
    {
      "cell_type": "markdown",
      "metadata": {
        "id": "CazA6qfUvTpk",
        "colab_type": "text"
      },
      "source": [
        "## Computing a weighted model\n",
        "\n",
        "The accuracy computed is too small for this prediction and by making an analysis on the confusion model, we observe that so many errors occur during the training process. One approach to these problems is to weight the classes when computing the logistic regression model. The code in the cell below adds a `class_weight` argument to the call to the `LogisticRegression` function. In this case weights are chosen as $0.99, 0.99$  but you can also give another combination. "
      ]
    },
    {
      "cell_type": "code",
      "metadata": {
        "id": "L0oNZytevTpk",
        "colab_type": "code",
        "colab": {},
        "outputId": "cea012f4-1bf9-475b-96c4-d377ef65ef61"
      },
      "source": [
        "logistic_mod = linear_model.LogisticRegression(class_weight = {0:0.99, 1:0.99}) \n",
        "logistic_mod.fit(X_train, Y_train)"
      ],
      "execution_count": 0,
      "outputs": [
        {
          "output_type": "execute_result",
          "data": {
            "text/plain": [
              "LogisticRegression(C=1.0, class_weight={0: 0.99, 1: 0.99}, dual=False,\n",
              "                   fit_intercept=True, intercept_scaling=1, l1_ratio=None,\n",
              "                   max_iter=100, multi_class='auto', n_jobs=None, penalty='l2',\n",
              "                   random_state=None, solver='lbfgs', tol=0.0001, verbose=0,\n",
              "                   warm_start=False)"
            ]
          },
          "metadata": {
            "tags": []
          },
          "execution_count": 62
        }
      ]
    },
    {
      "cell_type": "markdown",
      "metadata": {
        "id": "4_UeCWtkvTpn",
        "colab_type": "text"
      },
      "source": [
        "##### Next,  we execute the code in the cell below to compute and display the class probabilities for each case. "
      ]
    },
    {
      "cell_type": "code",
      "metadata": {
        "id": "IZYXSYhGvTpn",
        "colab_type": "code",
        "colab": {},
        "outputId": "53369e59-a5ec-4875-a600-02b12719bea8"
      },
      "source": [
        "probabilities = logistic_mod.predict_proba(X_test)\n",
        "print(probabilities[:15,:])"
      ],
      "execution_count": 0,
      "outputs": [
        {
          "output_type": "stream",
          "text": [
            "[[0.56187667 0.43812333]\n",
            " [0.65600346 0.34399654]\n",
            " [0.38231298 0.61768702]\n",
            " [0.4377927  0.5622073 ]\n",
            " [0.69896658 0.30103342]\n",
            " [0.5542761  0.4457239 ]\n",
            " [0.51453428 0.48546572]\n",
            " [0.62750548 0.37249452]\n",
            " [0.72450872 0.27549128]\n",
            " [0.38053778 0.61946222]\n",
            " [0.44993989 0.55006011]\n",
            " [0.30659958 0.69340042]\n",
            " [0.6527069  0.3472931 ]\n",
            " [0.59381889 0.40618111]\n",
            " [0.66249708 0.33750292]]\n"
          ],
          "name": "stdout"
        }
      ]
    },
    {
      "cell_type": "code",
      "metadata": {
        "id": "znHfwdegvTpr",
        "colab_type": "code",
        "colab": {}
      },
      "source": [
        ""
      ],
      "execution_count": 0,
      "outputs": []
    },
    {
      "cell_type": "code",
      "metadata": {
        "id": "fEpgyCtFvTps",
        "colab_type": "code",
        "colab": {},
        "outputId": "10a505ac-78ec-4d5c-af48-f6397741e5d6"
      },
      "source": [
        "scores = score_model(probabilities, 0.5)\n",
        "#print_metrics(Y_test, scores)  \n",
        "plot_auc(Y_test, probabilities)  "
      ],
      "execution_count": 0,
      "outputs": [
        {
          "output_type": "display_data",
          "data": {
            "image/png": "[encoded data removed]",
            "text/plain": [
              "<Figure size 432x288 with 1 Axes>"
            ]
          },
          "metadata": {
            "tags": [],
            "needs_background": "light"
          }
        }
      ]
    },
    {
      "cell_type": "markdown",
      "metadata": {
        "id": "6mzi2X18vTpt",
        "colab_type": "text"
      },
      "source": [
        "#### After changing the weights of the two classes we almost obatined the same accuracy "
      ]
    },
    {
      "cell_type": "code",
      "metadata": {
        "id": "34dPrnsaOVXl",
        "colab_type": "code",
        "colab": {}
      },
      "source": [
        ""
      ],
      "execution_count": 0,
      "outputs": []
    },
    {
      "cell_type": "markdown",
      "metadata": {
        "id": "K22cvRA7OVn9",
        "colab_type": "text"
      },
      "source": [
        "# Deep Learning Algorithm"
      ]
    },
    {
      "cell_type": "code",
      "metadata": {
        "id": "uv870EAYvTpu",
        "colab_type": "code",
        "colab": {}
      },
      "source": [
        ""
      ],
      "execution_count": 0,
      "outputs": []
    },
    {
      "cell_type": "markdown",
      "metadata": {
        "id": "_OF4XMYFwxzp",
        "colab_type": "text"
      },
      "source": [
        "After building a logistic regression model for the prediction of an accemotance of a mortgage, we built a deep learning model in order to compare the accuracy and select the solution for predicting this particular problem.\n",
        "\n",
        "having proceed the feature selection process in the baseline model and important data visualization, we are going to build our model directly and the features jugjed unimportant are going to be removed directly."
      ]
    },
    {
      "cell_type": "code",
      "metadata": {
        "id": "8HK-WBPJXpyK",
        "colab_type": "code",
        "colab": {}
      },
      "source": [
        ""
      ],
      "execution_count": 0,
      "outputs": []
    },
    {
      "cell_type": "code",
      "metadata": {
        "id": "qqGpvYlBwx2_",
        "colab_type": "code",
        "colab": {}
      },
      "source": [
        "scaled_X = StandardScaler().fit_transform(X)"
      ],
      "execution_count": 0,
      "outputs": []
    },
    {
      "cell_type": "markdown",
      "metadata": {
        "id": "fS5l7ZPmwx3F",
        "colab_type": "text"
      },
      "source": [
        "### Splitting the data into training, validation and testing data"
      ]
    },
    {
      "cell_type": "code",
      "metadata": {
        "id": "5HM9DIhWwx3G",
        "colab_type": "code",
        "colab": {}
      },
      "source": [
        "from sklearn.model_selection import train_test_split\n",
        "X_train, X_test, Y_train, Y_test = train_test_split(scaled_X, Y, test_size=0.20, random_state=0)\n",
        "X_train, X_val, Y_train, Y_val = train_test_split(X_train, Y_train, test_size=.3) # Same as we did for testing, we allocate 30% of the data is allocated to the validation"
      ],
      "execution_count": 0,
      "outputs": []
    },
    {
      "cell_type": "code",
      "metadata": {
        "id": "hCPlVxHxwx3L",
        "colab_type": "code",
        "outputId": "e90b6cc7-00b2-4e95-c1da-a718a56142aa",
        "colab": {
          "base_uri": "https://localhost:8080/",
          "height": 34
        }
      },
      "source": [
        "X_train.shape"
      ],
      "execution_count": 300,
      "outputs": [
        {
          "output_type": "execute_result",
          "data": {
            "text/plain": [
              "(245422, 14)"
            ]
          },
          "metadata": {
            "tags": []
          },
          "execution_count": 300
        }
      ]
    },
    {
      "cell_type": "code",
      "metadata": {
        "id": "Ollh5Nn0wx3N",
        "colab_type": "code",
        "outputId": "e5cdcc4c-3fb7-4eee-b9be-fd2019b80d25",
        "colab": {
          "base_uri": "https://localhost:8080/",
          "height": 34
        }
      },
      "source": [
        "Y_train.shape"
      ],
      "execution_count": 301,
      "outputs": [
        {
          "output_type": "execute_result",
          "data": {
            "text/plain": [
              "(245422,)"
            ]
          },
          "metadata": {
            "tags": []
          },
          "execution_count": 301
        }
      ]
    },
    {
      "cell_type": "code",
      "metadata": {
        "id": "ESixmfWkwx3S",
        "colab_type": "code",
        "outputId": "4095177a-3db0-425d-8a08-991b30c0ce1c",
        "colab": {
          "base_uri": "https://localhost:8080/",
          "height": 34
        }
      },
      "source": [
        "X_test.shape"
      ],
      "execution_count": 302,
      "outputs": [
        {
          "output_type": "execute_result",
          "data": {
            "text/plain": [
              "(87651, 14)"
            ]
          },
          "metadata": {
            "tags": []
          },
          "execution_count": 302
        }
      ]
    },
    {
      "cell_type": "code",
      "metadata": {
        "id": "waAn50tbwx3V",
        "colab_type": "code",
        "outputId": "3e66ec97-4152-4d64-955a-0bc4ce580cf7",
        "colab": {
          "base_uri": "https://localhost:8080/",
          "height": 34
        }
      },
      "source": [
        "Y_test.shape"
      ],
      "execution_count": 303,
      "outputs": [
        {
          "output_type": "execute_result",
          "data": {
            "text/plain": [
              "(87651,)"
            ]
          },
          "metadata": {
            "tags": []
          },
          "execution_count": 303
        }
      ]
    },
    {
      "cell_type": "markdown",
      "metadata": {
        "id": "12WD7TT8wx3X",
        "colab_type": "text"
      },
      "source": [
        "## Finding unique classes"
      ]
    },
    {
      "cell_type": "code",
      "metadata": {
        "id": "Dwgsj71Uwx3Y",
        "colab_type": "code",
        "outputId": "a21b7b68-5477-4a47-fb2d-9051d7e964a2",
        "colab": {
          "base_uri": "https://localhost:8080/",
          "height": 52
        }
      },
      "source": [
        "classes = np.unique(Y_test)\n",
        "nClasses = len(classes)\n",
        "print('Total number of outputs : ', nClasses)\n",
        "print('Output classes : ', classes)"
      ],
      "execution_count": 304,
      "outputs": [
        {
          "output_type": "stream",
          "text": [
            "Total number of outputs :  2\n",
            "Output classes :  [0 1]\n"
          ],
          "name": "stdout"
        }
      ]
    },
    {
      "cell_type": "code",
      "metadata": {
        "id": "VDO2zWEMwx3d",
        "colab_type": "code",
        "outputId": "f1e6d14a-91af-4701-8c66-af34c03b35a8",
        "colab": {
          "base_uri": "https://localhost:8080/",
          "height": 243
        }
      },
      "source": [
        "X_train"
      ],
      "execution_count": 305,
      "outputs": [
        {
          "output_type": "execute_result",
          "data": {
            "text/plain": [
              "array([[-0.48697353, -0.19515638, -1.12440603, ...,  0.56996452,\n",
              "        -0.87191195, -0.83144123],\n",
              "       [-0.48697353, -0.19515638,  0.99382402, ...,  0.56996452,\n",
              "        -0.20474209, -0.83144123],\n",
              "       [-0.48697353, -0.19515638, -1.12440603, ...,  0.56996452,\n",
              "        -0.66519866, -0.83144123],\n",
              "       ...,\n",
              "       [-0.48697353, -0.19515638, -1.12440603, ..., -0.17001236,\n",
              "        -0.21239814, -0.83144123],\n",
              "       [-0.48697353, -0.19515638,  0.99382402, ...,  0.56996452,\n",
              "         0.6975778 , -0.83144123],\n",
              "       [-0.48697353, -0.19515638,  0.99382402, ..., -0.79557085,\n",
              "        -1.07315662, -0.83144123]])"
            ]
          },
          "metadata": {
            "tags": []
          },
          "execution_count": 305
        }
      ]
    },
    {
      "cell_type": "markdown",
      "metadata": {
        "id": "Gd4JvJvOwx3q",
        "colab_type": "text"
      },
      "source": [
        "## Task: Convert from categorical labels to one-hot encoded vectors\n",
        "\n",
        "In this case there are 100 classes so we can tell the function to convert into a vector of length 2. You need to convert both the training, validation and testing targets."
      ]
    },
    {
      "cell_type": "code",
      "metadata": {
        "id": "YrcVQSrkwx3s",
        "colab_type": "code",
        "colab": {}
      },
      "source": [
        "Y_train = np_utils.to_categorical(Y_train, 2)\n",
        "Y_test = np_utils.to_categorical(Y_test, 2)\n",
        "Y_val = np_utils.to_categorical(Y_val, 2)"
      ],
      "execution_count": 0,
      "outputs": []
    },
    {
      "cell_type": "code",
      "metadata": {
        "id": "2szA2wHawx30",
        "colab_type": "code",
        "outputId": "cdb7545d-1984-4645-f151-dd69121e4c48",
        "colab": {
          "base_uri": "https://localhost:8080/",
          "height": 34
        }
      },
      "source": [
        "Y_val.shape"
      ],
      "execution_count": 307,
      "outputs": [
        {
          "output_type": "execute_result",
          "data": {
            "text/plain": [
              "(105182, 2)"
            ]
          },
          "metadata": {
            "tags": []
          },
          "execution_count": 307
        }
      ]
    },
    {
      "cell_type": "code",
      "metadata": {
        "id": "gJBUDgE_wx33",
        "colab_type": "code",
        "outputId": "ea0167c7-c047-4791-8a52-6df58b03f516",
        "colab": {
          "base_uri": "https://localhost:8080/",
          "height": 34
        }
      },
      "source": [
        "Y_train.shape"
      ],
      "execution_count": 308,
      "outputs": [
        {
          "output_type": "execute_result",
          "data": {
            "text/plain": [
              "(245422, 2)"
            ]
          },
          "metadata": {
            "tags": []
          },
          "execution_count": 308
        }
      ]
    },
    {
      "cell_type": "code",
      "metadata": {
        "id": "omhsUCzewx35",
        "colab_type": "code",
        "outputId": "86b5fd79-353c-4f93-8d23-c396c361352d",
        "colab": {
          "base_uri": "https://localhost:8080/",
          "height": 34
        }
      },
      "source": [
        "Y_test.shape"
      ],
      "execution_count": 309,
      "outputs": [
        {
          "output_type": "execute_result",
          "data": {
            "text/plain": [
              "(87651, 2)"
            ]
          },
          "metadata": {
            "tags": []
          },
          "execution_count": 309
        }
      ]
    },
    {
      "cell_type": "code",
      "metadata": {
        "id": "RZirYZBNwx38",
        "colab_type": "code",
        "outputId": "f30dace9-6d18-4f54-cb88-ce955f202e71",
        "colab": {
          "base_uri": "https://localhost:8080/",
          "height": 34
        }
      },
      "source": [
        "X_train.shape"
      ],
      "execution_count": 310,
      "outputs": [
        {
          "output_type": "execute_result",
          "data": {
            "text/plain": [
              "(245422, 14)"
            ]
          },
          "metadata": {
            "tags": []
          },
          "execution_count": 310
        }
      ]
    },
    {
      "cell_type": "markdown",
      "metadata": {
        "id": "C122kZP9wx4C",
        "colab_type": "text"
      },
      "source": [
        "# Building a deep learning model"
      ]
    },
    {
      "cell_type": "markdown",
      "metadata": {
        "id": "ywOFoT6Wwx4D",
        "colab_type": "text"
      },
      "source": [
        "The features of this problem were initially 21. However, the feature selection has been conducted and the observation made is that the two features \"lender\" and \"applicant_ethnicity\" have been removed in the prediction process. therefore, our model has 19 inputs.\n",
        "\n",
        "The full process of the below code is done as follow:\n",
        "    \n",
        "1. Primarily, we defined the model as sequential in order to indicate the flow of the layers and Initializing the sequence means that whenever we add any layer to the model, it will be added in the sequence of left to right.\n",
        "\n",
        "    \n",
        "2. Second, we created a first layer of the model. the layer was defined with 19 inputs(features) and with 30 units for the hidden layer. The dense indicating that this is full connected and the activation function used is relu.\n",
        "\n",
        "\n",
        "3. Third, we created a second layer technically called hidden layer with tanh activation function and no need of inputing again the features because the results from first layer will be transformed to the inputs of this new layer.\n",
        "\n",
        "\n",
        "4. Fourth, we created the final layer and we applied the softmax. the number 2 indicate that we have 2 classes in our target.\n",
        "\n",
        "\n",
        " The aim of this softmax is to print the probabilities which will help in determining the accuracy of the model.\n",
        " \n",
        " At last, we compiled the model using the 'categorical_crossentropy' loss function\n"
      ]
    },
    {
      "cell_type": "code",
      "metadata": {
        "id": "6uIummoIwx4D",
        "colab_type": "code",
        "colab": {}
      },
      "source": [
        "def network():\n",
        "  \n",
        "    \n",
        "    model = Sequential() # \n",
        "    \n",
        "    model.add(Dense(30, input_dim=14, activation='relu'))  \n",
        "\n",
        "    model.add(Dense(10, activation='tanh')) \n",
        "\n",
        "    model.add(Dense(2, activation='softmax'))\n",
        "    # Compile model\n",
        "    model.compile(loss='categorical_crossentropy', \n",
        "                  optimizer='adam', \n",
        "                  metrics=['accuracy'])\n",
        "    \n",
        "    return model"
      ],
      "execution_count": 0,
      "outputs": []
    },
    {
      "cell_type": "markdown",
      "metadata": {
        "id": "U-mmnkHewx4G",
        "colab_type": "text"
      },
      "source": [
        "# Initialise the model"
      ]
    },
    {
      "cell_type": "code",
      "metadata": {
        "id": "DU2GZ_w-wx4H",
        "colab_type": "code",
        "colab": {}
      },
      "source": [
        "model=network()"
      ],
      "execution_count": 0,
      "outputs": []
    },
    {
      "cell_type": "markdown",
      "metadata": {
        "id": "htx4GtSYwx4I",
        "colab_type": "text"
      },
      "source": [
        "## Printing the paramaters of the model"
      ]
    },
    {
      "cell_type": "code",
      "metadata": {
        "id": "tnLOK4eIwx4K",
        "colab_type": "code",
        "outputId": "67c65ad8-90bb-42f0-a13a-9f4894be7992",
        "colab": {
          "base_uri": "https://localhost:8080/",
          "height": 260
        }
      },
      "source": [
        "model.summary()"
      ],
      "execution_count": 317,
      "outputs": [
        {
          "output_type": "stream",
          "text": [
            "Model: \"sequential_2\"\n",
            "_________________________________________________________________\n",
            "Layer (type)                 Output Shape              Param #   \n",
            "=================================================================\n",
            "dense_4 (Dense)              (None, 30)                450       \n",
            "_________________________________________________________________\n",
            "dense_5 (Dense)              (None, 10)                310       \n",
            "_________________________________________________________________\n",
            "dense_6 (Dense)              (None, 2)                 22        \n",
            "=================================================================\n",
            "Total params: 782\n",
            "Trainable params: 782\n",
            "Non-trainable params: 0\n",
            "_________________________________________________________________\n"
          ],
          "name": "stdout"
        }
      ]
    },
    {
      "cell_type": "code",
      "metadata": {
        "id": "3Sle4q-Owx4N",
        "colab_type": "code",
        "outputId": "84a735db-d807-43cd-ed9f-e876fcb83682",
        "colab": {
          "base_uri": "https://localhost:8080/",
          "height": 1000
        }
      },
      "source": [
        "history = model.fit(X_train, Y_train, validation_data = (X_val, Y_val), \n",
        "                    epochs=50, \n",
        "                    batch_size=30, \n",
        "                    verbose=1)"
      ],
      "execution_count": 318,
      "outputs": [
        {
          "output_type": "stream",
          "text": [
            "WARNING:tensorflow:From /usr/local/lib/python3.6/dist-packages/tensorflow_core/python/ops/math_grad.py:1424: where (from tensorflow.python.ops.array_ops) is deprecated and will be removed in a future version.\n",
            "Instructions for updating:\n",
            "Use tf.where in 2.0, which has the same broadcast rule as np.where\n",
            "WARNING:tensorflow:From /usr/local/lib/python3.6/dist-packages/keras/backend/tensorflow_backend.py:1033: The name tf.assign_add is deprecated. Please use tf.compat.v1.assign_add instead.\n",
            "\n",
            "WARNING:tensorflow:From /usr/local/lib/python3.6/dist-packages/keras/backend/tensorflow_backend.py:1020: The name tf.assign is deprecated. Please use tf.compat.v1.assign instead.\n",
            "\n",
            "WARNING:tensorflow:From /usr/local/lib/python3.6/dist-packages/keras/backend/tensorflow_backend.py:3005: The name tf.Session is deprecated. Please use tf.compat.v1.Session instead.\n",
            "\n",
            "Train on 245422 samples, validate on 105182 samples\n",
            "Epoch 1/50\n",
            "WARNING:tensorflow:From /usr/local/lib/python3.6/dist-packages/keras/backend/tensorflow_backend.py:190: The name tf.get_default_session is deprecated. Please use tf.compat.v1.get_default_session instead.\n",
            "\n",
            "WARNING:tensorflow:From /usr/local/lib/python3.6/dist-packages/keras/backend/tensorflow_backend.py:197: The name tf.ConfigProto is deprecated. Please use tf.compat.v1.ConfigProto instead.\n",
            "\n",
            "WARNING:tensorflow:From /usr/local/lib/python3.6/dist-packages/keras/backend/tensorflow_backend.py:207: The name tf.global_variables is deprecated. Please use tf.compat.v1.global_variables instead.\n",
            "\n",
            "WARNING:tensorflow:From /usr/local/lib/python3.6/dist-packages/keras/backend/tensorflow_backend.py:216: The name tf.is_variable_initialized is deprecated. Please use tf.compat.v1.is_variable_initialized instead.\n",
            "\n",
            "WARNING:tensorflow:From /usr/local/lib/python3.6/dist-packages/keras/backend/tensorflow_backend.py:223: The name tf.variables_initializer is deprecated. Please use tf.compat.v1.variables_initializer instead.\n",
            "\n",
            "245422/245422 [==============================] - 13s 54us/step - loss: 0.6313 - acc: 0.6491 - val_loss: 0.6255 - val_acc: 0.6536\n",
            "Epoch 2/50\n",
            "245422/245422 [==============================] - 14s 56us/step - loss: 0.6223 - acc: 0.6576 - val_loss: 0.6220 - val_acc: 0.6572\n",
            "Epoch 3/50\n",
            "245422/245422 [==============================] - 12s 51us/step - loss: 0.6188 - acc: 0.6611 - val_loss: 0.6206 - val_acc: 0.6586\n",
            "Epoch 4/50\n",
            "245422/245422 [==============================] - 12s 50us/step - loss: 0.6170 - acc: 0.6624 - val_loss: 0.6189 - val_acc: 0.6602\n",
            "Epoch 5/50\n",
            "245422/245422 [==============================] - 12s 50us/step - loss: 0.6162 - acc: 0.6629 - val_loss: 0.6182 - val_acc: 0.6616\n",
            "Epoch 6/50\n",
            "245422/245422 [==============================] - 13s 51us/step - loss: 0.6157 - acc: 0.6640 - val_loss: 0.6190 - val_acc: 0.6611\n",
            "Epoch 7/50\n",
            "245422/245422 [==============================] - 13s 52us/step - loss: 0.6151 - acc: 0.6642 - val_loss: 0.6173 - val_acc: 0.6621\n",
            "Epoch 8/50\n",
            "245422/245422 [==============================] - 13s 52us/step - loss: 0.6147 - acc: 0.6652 - val_loss: 0.6189 - val_acc: 0.6593\n",
            "Epoch 9/50\n",
            "245422/245422 [==============================] - 12s 50us/step - loss: 0.6145 - acc: 0.6648 - val_loss: 0.6169 - val_acc: 0.6627\n",
            "Epoch 10/50\n",
            "245422/245422 [==============================] - 12s 51us/step - loss: 0.6143 - acc: 0.6651 - val_loss: 0.6177 - val_acc: 0.6623\n",
            "Epoch 11/50\n",
            "245422/245422 [==============================] - 13s 51us/step - loss: 0.6140 - acc: 0.6650 - val_loss: 0.6176 - val_acc: 0.6618\n",
            "Epoch 12/50\n",
            "245422/245422 [==============================] - 12s 51us/step - loss: 0.6140 - acc: 0.6651 - val_loss: 0.6180 - val_acc: 0.6609\n",
            "Epoch 13/50\n",
            "245422/245422 [==============================] - 12s 51us/step - loss: 0.6137 - acc: 0.6651 - val_loss: 0.6173 - val_acc: 0.6619\n",
            "Epoch 14/50\n",
            "245422/245422 [==============================] - 13s 51us/step - loss: 0.6136 - acc: 0.6655 - val_loss: 0.6169 - val_acc: 0.6622\n",
            "Epoch 15/50\n",
            "245422/245422 [==============================] - 12s 51us/step - loss: 0.6135 - acc: 0.6658 - val_loss: 0.6165 - val_acc: 0.6626\n",
            "Epoch 16/50\n",
            "245422/245422 [==============================] - 13s 51us/step - loss: 0.6134 - acc: 0.6657 - val_loss: 0.6179 - val_acc: 0.6615\n",
            "Epoch 17/50\n",
            "245422/245422 [==============================] - 12s 51us/step - loss: 0.6133 - acc: 0.6657 - val_loss: 0.6165 - val_acc: 0.6627\n",
            "Epoch 18/50\n",
            "245422/245422 [==============================] - 13s 51us/step - loss: 0.6134 - acc: 0.6655 - val_loss: 0.6163 - val_acc: 0.6625\n",
            "Epoch 19/50\n",
            "245422/245422 [==============================] - 13s 54us/step - loss: 0.6132 - acc: 0.6657 - val_loss: 0.6163 - val_acc: 0.6622\n",
            "Epoch 20/50\n",
            "245422/245422 [==============================] - 13s 52us/step - loss: 0.6132 - acc: 0.6660 - val_loss: 0.6168 - val_acc: 0.6631\n",
            "Epoch 21/50\n",
            "245422/245422 [==============================] - 13s 51us/step - loss: 0.6131 - acc: 0.6661 - val_loss: 0.6168 - val_acc: 0.6617\n",
            "Epoch 22/50\n",
            "245422/245422 [==============================] - 12s 51us/step - loss: 0.6130 - acc: 0.6658 - val_loss: 0.6168 - val_acc: 0.6612\n",
            "Epoch 23/50\n",
            "245422/245422 [==============================] - 12s 50us/step - loss: 0.6130 - acc: 0.6659 - val_loss: 0.6164 - val_acc: 0.6626\n",
            "Epoch 24/50\n",
            "245422/245422 [==============================] - 13s 51us/step - loss: 0.6130 - acc: 0.6663 - val_loss: 0.6162 - val_acc: 0.6627\n",
            "Epoch 25/50\n",
            "245422/245422 [==============================] - 12s 51us/step - loss: 0.6128 - acc: 0.6663 - val_loss: 0.6167 - val_acc: 0.6625\n",
            "Epoch 26/50\n",
            "245422/245422 [==============================] - 13s 55us/step - loss: 0.6129 - acc: 0.6666 - val_loss: 0.6163 - val_acc: 0.6632\n",
            "Epoch 27/50\n",
            "245422/245422 [==============================] - 13s 52us/step - loss: 0.6127 - acc: 0.6664 - val_loss: 0.6167 - val_acc: 0.6630\n",
            "Epoch 28/50\n",
            "245422/245422 [==============================] - 13s 51us/step - loss: 0.6127 - acc: 0.6667 - val_loss: 0.6162 - val_acc: 0.6630\n",
            "Epoch 29/50\n",
            "245422/245422 [==============================] - 13s 52us/step - loss: 0.6126 - acc: 0.6664 - val_loss: 0.6164 - val_acc: 0.6631\n",
            "Epoch 30/50\n",
            "245422/245422 [==============================] - 13s 52us/step - loss: 0.6125 - acc: 0.6665 - val_loss: 0.6178 - val_acc: 0.6621\n",
            "Epoch 31/50\n",
            "245422/245422 [==============================] - 12s 51us/step - loss: 0.6125 - acc: 0.6665 - val_loss: 0.6162 - val_acc: 0.6632\n",
            "Epoch 32/50\n",
            "245422/245422 [==============================] - 13s 52us/step - loss: 0.6125 - acc: 0.6668 - val_loss: 0.6168 - val_acc: 0.6622\n",
            "Epoch 33/50\n",
            "245422/245422 [==============================] - 12s 50us/step - loss: 0.6125 - acc: 0.6668 - val_loss: 0.6175 - val_acc: 0.6617\n",
            "Epoch 34/50\n",
            "245422/245422 [==============================] - 12s 49us/step - loss: 0.6124 - acc: 0.6663 - val_loss: 0.6173 - val_acc: 0.6613\n",
            "Epoch 35/50\n",
            "245422/245422 [==============================] - 12s 49us/step - loss: 0.6125 - acc: 0.6664 - val_loss: 0.6160 - val_acc: 0.6635\n",
            "Epoch 36/50\n",
            "245422/245422 [==============================] - 12s 49us/step - loss: 0.6123 - acc: 0.6665 - val_loss: 0.6158 - val_acc: 0.6632\n",
            "Epoch 37/50\n",
            "245422/245422 [==============================] - 12s 49us/step - loss: 0.6123 - acc: 0.6665 - val_loss: 0.6167 - val_acc: 0.6629\n",
            "Epoch 38/50\n",
            "245422/245422 [==============================] - 12s 49us/step - loss: 0.6123 - acc: 0.6666 - val_loss: 0.6165 - val_acc: 0.6628\n",
            "Epoch 39/50\n",
            "245422/245422 [==============================] - 12s 49us/step - loss: 0.6122 - acc: 0.6664 - val_loss: 0.6163 - val_acc: 0.6626\n",
            "Epoch 40/50\n",
            "245422/245422 [==============================] - 12s 49us/step - loss: 0.6121 - acc: 0.6667 - val_loss: 0.6166 - val_acc: 0.6624\n",
            "Epoch 41/50\n",
            "245422/245422 [==============================] - 12s 49us/step - loss: 0.6122 - acc: 0.6666 - val_loss: 0.6174 - val_acc: 0.6616\n",
            "Epoch 42/50\n",
            "245422/245422 [==============================] - 12s 49us/step - loss: 0.6122 - acc: 0.6673 - val_loss: 0.6169 - val_acc: 0.6616\n",
            "Epoch 43/50\n",
            "245422/245422 [==============================] - 12s 48us/step - loss: 0.6122 - acc: 0.6667 - val_loss: 0.6174 - val_acc: 0.6601\n",
            "Epoch 44/50\n",
            "245422/245422 [==============================] - 12s 50us/step - loss: 0.6121 - acc: 0.6667 - val_loss: 0.6166 - val_acc: 0.6626\n",
            "Epoch 45/50\n",
            "245422/245422 [==============================] - 12s 50us/step - loss: 0.6122 - acc: 0.6665 - val_loss: 0.6167 - val_acc: 0.6624\n",
            "Epoch 46/50\n",
            "245422/245422 [==============================] - 12s 49us/step - loss: 0.6121 - acc: 0.6669 - val_loss: 0.6166 - val_acc: 0.6627\n",
            "Epoch 47/50\n",
            "245422/245422 [==============================] - 12s 49us/step - loss: 0.6120 - acc: 0.6675 - val_loss: 0.6166 - val_acc: 0.6633\n",
            "Epoch 48/50\n",
            "245422/245422 [==============================] - 12s 48us/step - loss: 0.6120 - acc: 0.6670 - val_loss: 0.6165 - val_acc: 0.6630\n",
            "Epoch 49/50\n",
            "245422/245422 [==============================] - 12s 48us/step - loss: 0.6121 - acc: 0.6665 - val_loss: 0.6171 - val_acc: 0.6624\n",
            "Epoch 50/50\n",
            "245422/245422 [==============================] - 12s 48us/step - loss: 0.6119 - acc: 0.6664 - val_loss: 0.6165 - val_acc: 0.6635\n"
          ],
          "name": "stdout"
        }
      ]
    },
    {
      "cell_type": "markdown",
      "metadata": {
        "id": "lFYqqn4c4SC-",
        "colab_type": "text"
      },
      "source": [
        "# Validation process"
      ]
    },
    {
      "cell_type": "code",
      "metadata": {
        "id": "WSblSTeFwx4R",
        "colab_type": "code",
        "colab": {}
      },
      "source": [
        "prediction_classes = model.predict_classes(X_val)"
      ],
      "execution_count": 0,
      "outputs": []
    },
    {
      "cell_type": "markdown",
      "metadata": {
        "colab_type": "text",
        "id": "zVfVLxDOOT6B"
      },
      "source": [
        "# Model Evaluation using Confusion Matrix"
      ]
    },
    {
      "cell_type": "code",
      "metadata": {
        "id": "O3VmbZ9Dwx4T",
        "colab_type": "code",
        "outputId": "3c00de26-5686-48cf-9bc8-e1addd1cd73f",
        "colab": {
          "base_uri": "https://localhost:8080/",
          "height": 52
        }
      },
      "source": [
        "confusion_matrix(np.argmax(Y_val,1), prediction_classes)"
      ],
      "execution_count": 320,
      "outputs": [
        {
          "output_type": "execute_result",
          "data": {
            "text/plain": [
              "array([[30236, 20332],\n",
              "       [15061, 39553]])"
            ]
          },
          "metadata": {
            "tags": []
          },
          "execution_count": 320
        }
      ]
    },
    {
      "cell_type": "markdown",
      "metadata": {
        "colab_type": "text",
        "id": "JJaD_u7e4mdg"
      },
      "source": [
        "## Printing the accuracy of the model"
      ]
    },
    {
      "cell_type": "code",
      "metadata": {
        "colab_type": "code",
        "outputId": "492a975e-1a02-4eb3-a885-02ed4e690b56",
        "id": "c_m95Q1b4md8",
        "colab": {
          "base_uri": "https://localhost:8080/",
          "height": 34
        }
      },
      "source": [
        "accuracy_score(np.argmax(Y_val,1), prediction_classes)"
      ],
      "execution_count": 321,
      "outputs": [
        {
          "output_type": "execute_result",
          "data": {
            "text/plain": [
              "0.6635070639463025"
            ]
          },
          "metadata": {
            "tags": []
          },
          "execution_count": 321
        }
      ]
    },
    {
      "cell_type": "code",
      "metadata": {
        "id": "IRPCrwNXwx4o",
        "colab_type": "code",
        "colab": {}
      },
      "source": [
        "def plot_hist(h, xsize=6, ysize=10):\n",
        "\n",
        "    fig_size = plt.rcParams[\"figure.figsize\"]\n",
        "    plt.rcParams[\"figure.figsize\"] = [xsize, ysize]\n",
        "    fig, axes = plt.subplots(nrows=1, ncols=1, sharex=True)\n",
        "    \n",
        "    # summarize history for Accuracy\n",
        "    plt.subplot(211)\n",
        "    plt.plot(h['acc'])\n",
        "    plt.plot(h['val_acc'])\n",
        "    plt.title('Training Performance')\n",
        "    plt.ylabel('Accuracy')\n",
        "    plt.xlabel('Epochs')\n",
        "    plt.legend(['Train', 'Validation'], loc='best')\n",
        "    \n",
        "    plt.draw()\n",
        "    plt.show()\n",
        "\n",
        "    return"
      ],
      "execution_count": 0,
      "outputs": []
    },
    {
      "cell_type": "code",
      "metadata": {
        "id": "ZxYANY9-wx4s",
        "colab_type": "code",
        "outputId": "ceb0b50c-6cca-451f-8c4f-e3dcb4c03399",
        "colab": {
          "base_uri": "https://localhost:8080/",
          "height": 374
        }
      },
      "source": [
        "plot_hist(history.history, xsize=8, ysize=12)"
      ],
      "execution_count": 325,
      "outputs": [
        {
          "output_type": "display_data",
          "data": {
            "image/png": "[encoded data removed]",
            "text/plain": [
              "<Figure size 576x864 with 1 Axes>"
            ]
          },
          "metadata": {
            "tags": []
          }
        }
      ]
    },
    {
      "cell_type": "markdown",
      "metadata": {
        "id": "tQ9QuYHiwx4v",
        "colab_type": "text"
      },
      "source": [
        "# Evaluate the model"
      ]
    },
    {
      "cell_type": "markdown",
      "metadata": {
        "id": "aVJcY_jqwx4x",
        "colab_type": "text"
      },
      "source": [
        "Evaluating is done on a data that the model has not seen before in order to predict how efficient the model will be in the real world or on real problems.\n",
        "\n",
        "Ideally, the aim of splitting the data into the training, validation and testing data is enable this process of testing the model. While the validation data helps to run over and over the training models in order to select the model with high accuracy or better predictions, the testing data indeed has a huge task which is to evakuate the model selected during the validation phase."
      ]
    },
    {
      "cell_type": "code",
      "metadata": {
        "id": "hT867XzUwx4z",
        "colab_type": "code",
        "colab": {}
      },
      "source": [
        "prediction_classes_test = model.predict_classes(X_test)"
      ],
      "execution_count": 0,
      "outputs": []
    },
    {
      "cell_type": "markdown",
      "metadata": {
        "id": "8tqQb4p7wx41",
        "colab_type": "text"
      },
      "source": [
        "## Visualizing the confusion matrix"
      ]
    },
    {
      "cell_type": "code",
      "metadata": {
        "id": "7SjlEENTwx42",
        "colab_type": "code",
        "outputId": "5c8434bb-249f-42b9-c4a5-48b6dc3ae625",
        "colab": {
          "base_uri": "https://localhost:8080/",
          "height": 52
        }
      },
      "source": [
        "confusion_matrix(np.argmax(Y_test,1), prediction_classes_test)"
      ],
      "execution_count": 333,
      "outputs": [
        {
          "output_type": "execute_result",
          "data": {
            "text/plain": [
              "array([[25302, 16855],\n",
              "       [12711, 32783]])"
            ]
          },
          "metadata": {
            "tags": []
          },
          "execution_count": 333
        }
      ]
    },
    {
      "cell_type": "markdown",
      "metadata": {
        "id": "WdFfY8B1wx44",
        "colab_type": "text"
      },
      "source": [
        "## Printing the accuracy of the model"
      ]
    },
    {
      "cell_type": "code",
      "metadata": {
        "id": "x5ud0FLRwx46",
        "colab_type": "code",
        "outputId": "ac6828bb-e915-4ebe-ef85-106ddc635c3e",
        "colab": {
          "base_uri": "https://localhost:8080/",
          "height": 34
        }
      },
      "source": [
        "accuracy_score(np.argmax(Y_test,1), prediction_classes_test)"
      ],
      "execution_count": 334,
      "outputs": [
        {
          "output_type": "execute_result",
          "data": {
            "text/plain": [
              "0.6626849665149285"
            ]
          },
          "metadata": {
            "tags": []
          },
          "execution_count": 334
        }
      ]
    },
    {
      "cell_type": "markdown",
      "metadata": {
        "id": "d7hqvcUEwx4-",
        "colab_type": "text"
      },
      "source": [
        "You can see that the accuracy on training and test sets is pretty similar which means that our model is not overfitting."
      ]
    },
    {
      "cell_type": "markdown",
      "metadata": {
        "id": "onIeWvN9wx5A",
        "colab_type": "text"
      },
      "source": [
        "# Challenges we faced.\n",
        "\n",
        "The most notable challenge we faced was to find the right dataset for the problems. We started with the problem of traffic but during our predictions, our model was overfitting because we were getting a 100% accuracy which is unrealistic for a machine learning classical algorithm even for the deep learning algroithm. We tried to remove the missing values from the data and percentage of the samples removed exceeded 10% moving from 283285 to around 3200 samples. We judged this critical that we decided to move to another problem.\n",
        "\n",
        "We worked on the mortgage problem as described in the report introduction. The data was already encoded to numerical, and therefore we performed the scalong directly. \n",
        "\n",
        "All our attempts to improve the accuracy beyond 70% were futile. \n",
        "\n",
        "In our prediction we did not consider the feauture **lender** due to \n",
        "high amount of missing data. Moreover, having used the backward elimination in ensuring the best feature selection, the feature application_ethnicity was also removed from the predictions test."
      ]
    },
    {
      "cell_type": "markdown",
      "metadata": {
        "id": "_014_YHtwx5C",
        "colab_type": "text"
      },
      "source": [
        "# Deep learning vs logistic regresion \n",
        "\n",
        "method gives significantly higher accuracy than the \"classical\" methods\n",
        "\n",
        "Deep learning has  a better accuracy 67%.\n",
        "\n",
        "The model from machine learning give us an accuracy arround to 63%.\n",
        "\n",
        "\n",
        "Deep learning was easier to impliment and took a shorter time.\n",
        "\n"
      ]
    }
  ]
}